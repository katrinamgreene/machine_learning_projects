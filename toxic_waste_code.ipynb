{
  "nbformat": 4,
  "nbformat_minor": 0,
  "metadata": {
    "colab": {
      "provenance": []
    },
    "kernelspec": {
      "name": "python3",
      "display_name": "Python 3"
    },
    "language_info": {
      "name": "python"
    }
  },
  "cells": [
    {
      "cell_type": "code",
      "execution_count": null,
      "metadata": {
        "id": "hn_kjCKl1LxU"
      },
      "outputs": [],
      "source": [
        "!pip install census \n",
        "!pip install us"
      ]
    },
    {
      "cell_type": "markdown",
      "source": [
        "#Data Collection\n",
        "\n",
        "Use Cencus API to get datasets of socioeconomic data per county in MA and NC:"
      ],
      "metadata": {
        "id": "PJI23jMt7lh-"
      }
    },
    {
      "cell_type": "code",
      "source": [
        "from census import Census\n",
        "from us import states\n",
        "\n",
        "c = Census(\"995592115d76c8ecf954bb9000fc2e75f5bf796e\")\n",
        "\n",
        "census_2019 = c.acs5.state_county(fields = ('NAME', 'B02001_001E', 'B02001_002E', 'B02001_003E', \n",
        "                                            'B17001_001E', 'B23006_007E', 'B23006_002E', 'B23006_009E', \n",
        "                                            'B23006_014E','B23006_028E', 'B23006_023E', 'C27001A_001E', \n",
        "                                            'C27001A_007E', 'C27001B_001E', 'C27001B_007E', 'B23006_001E', 'B17001_002E'),\n",
        "                                      state_fips = \"*\",\n",
        "                                      county_fips = \"*\",\n",
        "                                      year = 2019)\n"
      ],
      "metadata": {
        "id": "DvFrJvEbVqGT"
      },
      "execution_count": null,
      "outputs": []
    },
    {
      "cell_type": "code",
      "source": [
        "import pandas as pd # library for data analysis\n",
        "\n",
        "census_df = pd.DataFrame(census_2019)\n",
        "\n",
        "# Show the dataframe\n",
        "census_df.head(2)"
      ],
      "metadata": {
        "id": "hs0Pq84JgfVl"
      },
      "execution_count": null,
      "outputs": []
    },
    {
      "cell_type": "code",
      "source": [
        "census_df.shape[0]"
      ],
      "metadata": {
        "colab": {
          "base_uri": "https://localhost:8080/"
        },
        "id": "gchfWQX2ZbRj",
        "outputId": "9e678c41-b378-4643-95e9-4969df8ee412"
      },
      "execution_count": null,
      "outputs": [
        {
          "output_type": "execute_result",
          "data": {
            "text/plain": [
              "3220"
            ]
          },
          "metadata": {},
          "execution_count": 69
        }
      ]
    },
    {
      "cell_type": "markdown",
      "source": [
        "# Data Cleaning and Feature Engineering for Census data"
      ],
      "metadata": {
        "id": "QJCfCww_Ep8s"
      }
    },
    {
      "cell_type": "code",
      "source": [
        "census_df[['County', 'State']] = census_df['NAME'].str.split(', ',expand=True)\n",
        "\n",
        "census_df = census_df.rename(columns={\"B02001_001E\": \"total_pop\", \"B02001_002E\": \"only_white\", \"B02001_003E\": \"only_black\", \"B17001_001E\": \"poverty_total\",\n",
        "                                      \"B17001_002E\": \"in_poverty\", \"B23006_001E\": \"employment_by_education_total\",\"B23006_002E\": \"no_hs\", \"B23006_007E\": \"no_hs_unemployed\", \n",
        "                                      \"B23006_009E\": \"hs_diploma\", \"B23006_014E\": \"hs_unemployed\", \n",
        "                                      \"B23006_023E\": \"bach_or_higher\", \"B23006_028E\": \"bach_unemployed\", \"C27001A_001E\": \"total_white_hc\", \n",
        "                                      \"C27001A_007E\": \"white_uncovered\", \"C27001B_001E\": \"total_black_hc\", \"C27001B_007E\": \"black_uncovered\"})\n",
        "# employement by education: 25-64 years old\n",
        "census_df.head(2)\n"
      ],
      "metadata": {
        "colab": {
          "base_uri": "https://localhost:8080/",
          "height": 275
        },
        "id": "booqI4ipzry0",
        "outputId": "7254039f-01fd-4a81-a0b6-c1fe04d88a13"
      },
      "execution_count": null,
      "outputs": [
        {
          "output_type": "execute_result",
          "data": {
            "text/plain": [
              "                       NAME  total_pop  only_white  only_black  poverty_total  \\\n",
              "0  Fayette County, Illinois    21565.0     20245.0      1007.0        19855.0   \n",
              "1    Logan County, Illinois    29003.0     25667.0      2003.0        24979.0   \n",
              "\n",
              "   no_hs_unemployed   no_hs  hs_diploma  hs_unemployed  bach_unemployed  ...  \\\n",
              "0              67.0  1678.0      4165.0          186.0              3.0  ...   \n",
              "1              44.0  1771.0      4844.0          221.0             21.0  ...   \n",
              "\n",
              "   total_white_hc  white_uncovered  total_black_hc  black_uncovered  \\\n",
              "0         19562.0           1357.0            88.0              0.0   \n",
              "1         24102.0            837.0           465.0             51.0   \n",
              "\n",
              "   employment_by_education_total  in_poverty  state county          County  \\\n",
              "0                        11245.0      3421.0     17    051  Fayette County   \n",
              "1                        15149.0      2323.0     17    107    Logan County   \n",
              "\n",
              "      State  \n",
              "0  Illinois  \n",
              "1  Illinois  \n",
              "\n",
              "[2 rows x 21 columns]"
            ],
            "text/html": [
              "\n",
              "  <div id=\"df-c6bd4066-3b96-4c9c-a180-2dead68a816b\">\n",
              "    <div class=\"colab-df-container\">\n",
              "      <div>\n",
              "<style scoped>\n",
              "    .dataframe tbody tr th:only-of-type {\n",
              "        vertical-align: middle;\n",
              "    }\n",
              "\n",
              "    .dataframe tbody tr th {\n",
              "        vertical-align: top;\n",
              "    }\n",
              "\n",
              "    .dataframe thead th {\n",
              "        text-align: right;\n",
              "    }\n",
              "</style>\n",
              "<table border=\"1\" class=\"dataframe\">\n",
              "  <thead>\n",
              "    <tr style=\"text-align: right;\">\n",
              "      <th></th>\n",
              "      <th>NAME</th>\n",
              "      <th>total_pop</th>\n",
              "      <th>only_white</th>\n",
              "      <th>only_black</th>\n",
              "      <th>poverty_total</th>\n",
              "      <th>no_hs_unemployed</th>\n",
              "      <th>no_hs</th>\n",
              "      <th>hs_diploma</th>\n",
              "      <th>hs_unemployed</th>\n",
              "      <th>bach_unemployed</th>\n",
              "      <th>...</th>\n",
              "      <th>total_white_hc</th>\n",
              "      <th>white_uncovered</th>\n",
              "      <th>total_black_hc</th>\n",
              "      <th>black_uncovered</th>\n",
              "      <th>employment_by_education_total</th>\n",
              "      <th>in_poverty</th>\n",
              "      <th>state</th>\n",
              "      <th>county</th>\n",
              "      <th>County</th>\n",
              "      <th>State</th>\n",
              "    </tr>\n",
              "  </thead>\n",
              "  <tbody>\n",
              "    <tr>\n",
              "      <th>0</th>\n",
              "      <td>Fayette County, Illinois</td>\n",
              "      <td>21565.0</td>\n",
              "      <td>20245.0</td>\n",
              "      <td>1007.0</td>\n",
              "      <td>19855.0</td>\n",
              "      <td>67.0</td>\n",
              "      <td>1678.0</td>\n",
              "      <td>4165.0</td>\n",
              "      <td>186.0</td>\n",
              "      <td>3.0</td>\n",
              "      <td>...</td>\n",
              "      <td>19562.0</td>\n",
              "      <td>1357.0</td>\n",
              "      <td>88.0</td>\n",
              "      <td>0.0</td>\n",
              "      <td>11245.0</td>\n",
              "      <td>3421.0</td>\n",
              "      <td>17</td>\n",
              "      <td>051</td>\n",
              "      <td>Fayette County</td>\n",
              "      <td>Illinois</td>\n",
              "    </tr>\n",
              "    <tr>\n",
              "      <th>1</th>\n",
              "      <td>Logan County, Illinois</td>\n",
              "      <td>29003.0</td>\n",
              "      <td>25667.0</td>\n",
              "      <td>2003.0</td>\n",
              "      <td>24979.0</td>\n",
              "      <td>44.0</td>\n",
              "      <td>1771.0</td>\n",
              "      <td>4844.0</td>\n",
              "      <td>221.0</td>\n",
              "      <td>21.0</td>\n",
              "      <td>...</td>\n",
              "      <td>24102.0</td>\n",
              "      <td>837.0</td>\n",
              "      <td>465.0</td>\n",
              "      <td>51.0</td>\n",
              "      <td>15149.0</td>\n",
              "      <td>2323.0</td>\n",
              "      <td>17</td>\n",
              "      <td>107</td>\n",
              "      <td>Logan County</td>\n",
              "      <td>Illinois</td>\n",
              "    </tr>\n",
              "  </tbody>\n",
              "</table>\n",
              "<p>2 rows × 21 columns</p>\n",
              "</div>\n",
              "      <button class=\"colab-df-convert\" onclick=\"convertToInteractive('df-c6bd4066-3b96-4c9c-a180-2dead68a816b')\"\n",
              "              title=\"Convert this dataframe to an interactive table.\"\n",
              "              style=\"display:none;\">\n",
              "        \n",
              "  <svg xmlns=\"http://www.w3.org/2000/svg\" height=\"24px\"viewBox=\"0 0 24 24\"\n",
              "       width=\"24px\">\n",
              "    <path d=\"M0 0h24v24H0V0z\" fill=\"none\"/>\n",
              "    <path d=\"M18.56 5.44l.94 2.06.94-2.06 2.06-.94-2.06-.94-.94-2.06-.94 2.06-2.06.94zm-11 1L8.5 8.5l.94-2.06 2.06-.94-2.06-.94L8.5 2.5l-.94 2.06-2.06.94zm10 10l.94 2.06.94-2.06 2.06-.94-2.06-.94-.94-2.06-.94 2.06-2.06.94z\"/><path d=\"M17.41 7.96l-1.37-1.37c-.4-.4-.92-.59-1.43-.59-.52 0-1.04.2-1.43.59L10.3 9.45l-7.72 7.72c-.78.78-.78 2.05 0 2.83L4 21.41c.39.39.9.59 1.41.59.51 0 1.02-.2 1.41-.59l7.78-7.78 2.81-2.81c.8-.78.8-2.07 0-2.86zM5.41 20L4 18.59l7.72-7.72 1.47 1.35L5.41 20z\"/>\n",
              "  </svg>\n",
              "      </button>\n",
              "      \n",
              "  <style>\n",
              "    .colab-df-container {\n",
              "      display:flex;\n",
              "      flex-wrap:wrap;\n",
              "      gap: 12px;\n",
              "    }\n",
              "\n",
              "    .colab-df-convert {\n",
              "      background-color: #E8F0FE;\n",
              "      border: none;\n",
              "      border-radius: 50%;\n",
              "      cursor: pointer;\n",
              "      display: none;\n",
              "      fill: #1967D2;\n",
              "      height: 32px;\n",
              "      padding: 0 0 0 0;\n",
              "      width: 32px;\n",
              "    }\n",
              "\n",
              "    .colab-df-convert:hover {\n",
              "      background-color: #E2EBFA;\n",
              "      box-shadow: 0px 1px 2px rgba(60, 64, 67, 0.3), 0px 1px 3px 1px rgba(60, 64, 67, 0.15);\n",
              "      fill: #174EA6;\n",
              "    }\n",
              "\n",
              "    [theme=dark] .colab-df-convert {\n",
              "      background-color: #3B4455;\n",
              "      fill: #D2E3FC;\n",
              "    }\n",
              "\n",
              "    [theme=dark] .colab-df-convert:hover {\n",
              "      background-color: #434B5C;\n",
              "      box-shadow: 0px 1px 3px 1px rgba(0, 0, 0, 0.15);\n",
              "      filter: drop-shadow(0px 1px 2px rgba(0, 0, 0, 0.3));\n",
              "      fill: #FFFFFF;\n",
              "    }\n",
              "  </style>\n",
              "\n",
              "      <script>\n",
              "        const buttonEl =\n",
              "          document.querySelector('#df-c6bd4066-3b96-4c9c-a180-2dead68a816b button.colab-df-convert');\n",
              "        buttonEl.style.display =\n",
              "          google.colab.kernel.accessAllowed ? 'block' : 'none';\n",
              "\n",
              "        async function convertToInteractive(key) {\n",
              "          const element = document.querySelector('#df-c6bd4066-3b96-4c9c-a180-2dead68a816b');\n",
              "          const dataTable =\n",
              "            await google.colab.kernel.invokeFunction('convertToInteractive',\n",
              "                                                     [key], {});\n",
              "          if (!dataTable) return;\n",
              "\n",
              "          const docLinkHtml = 'Like what you see? Visit the ' +\n",
              "            '<a target=\"_blank\" href=https://colab.research.google.com/notebooks/data_table.ipynb>data table notebook</a>'\n",
              "            + ' to learn more about interactive tables.';\n",
              "          element.innerHTML = '';\n",
              "          dataTable['output_type'] = 'display_data';\n",
              "          await google.colab.output.renderOutput(dataTable, element);\n",
              "          const docLink = document.createElement('div');\n",
              "          docLink.innerHTML = docLinkHtml;\n",
              "          element.appendChild(docLink);\n",
              "        }\n",
              "      </script>\n",
              "    </div>\n",
              "  </div>\n",
              "  "
            ]
          },
          "metadata": {},
          "execution_count": 29
        }
      ]
    },
    {
      "cell_type": "code",
      "source": [
        "# feature engineering to get proportions in order to compare across counties with different population sizes\n",
        "census_df[\"only_white_prop\"] = census_df[\"only_white\"] / census_df[\"total_pop\"]\n",
        "census_df[\"only_black_prop\"] = census_df[\"only_black\"] / census_df[\"total_pop\"]\n",
        "census_df[\"no_hs_prop\"] = census_df[\"no_hs\"] / census_df[\"employment_by_education_total\"]\n",
        "census_df[\"hs_prop\"] = census_df[\"hs_diploma\"] / census_df[\"employment_by_education_total\"]\n",
        "census_df[\"bach_prop\"] = census_df[\"bach_or_higher\"] / census_df[\"employment_by_education_total\"]\n",
        "census_df[\"total_unemployed\"] = (census_df[\"no_hs_unemployed\"] + census_df[\"hs_unemployed\"] + census_df[\"bach_unemployed\"]) / census_df[\"employment_by_education_total\"]\n",
        "census_df[\"white_uncovered_prop\"] = census_df[\"white_uncovered\"] / census_df[\"total_white_hc\"]\n",
        "census_df[\"black_uncovered_prop\"] = census_df[\"black_uncovered\"] / census_df[\"total_black_hc\"]\n",
        "census_df[\"poverty_prop\"] = census_df[\"in_poverty\"] / census_df[\"poverty_total\"]\n",
        "\n",
        "census_df[\"County\"] = census_df[\"County\"].str.replace(' County', '')\n",
        "census_df[\"County\"] = census_df[\"County\"].str.replace(' Borough', '')\n",
        "census_df[\"County\"] = census_df[\"County\"].str.replace(' Parish', '')\n",
        "census_df[\"County\"] = census_df[\"County\"].str.replace(' city', '')\n",
        "\n",
        "census_df.head(2)"
      ],
      "metadata": {
        "colab": {
          "base_uri": "https://localhost:8080/",
          "height": 275
        },
        "id": "EkJiJ25hvY68",
        "outputId": "1b07fa50-d9ca-415a-85cd-3515926353d9"
      },
      "execution_count": null,
      "outputs": [
        {
          "output_type": "execute_result",
          "data": {
            "text/plain": [
              "                       NAME  total_pop  only_white  only_black  poverty_total  \\\n",
              "0  Fayette County, Illinois    21565.0     20245.0      1007.0        19855.0   \n",
              "1    Logan County, Illinois    29003.0     25667.0      2003.0        24979.0   \n",
              "\n",
              "   no_hs_unemployed   no_hs  hs_diploma  hs_unemployed  bach_unemployed  ...  \\\n",
              "0              67.0  1678.0      4165.0          186.0              3.0  ...   \n",
              "1              44.0  1771.0      4844.0          221.0             21.0  ...   \n",
              "\n",
              "      State  only_white_prop  only_black_prop  no_hs_prop   hs_prop  \\\n",
              "0  Illinois         0.938790         0.046696    0.149222  0.370387   \n",
              "1  Illinois         0.884977         0.069062    0.116905  0.319757   \n",
              "\n",
              "   bach_prop  total_unemployed white_uncovered_prop black_uncovered_prop  \\\n",
              "0   0.110538          0.022766             0.069369             0.000000   \n",
              "1   0.195590          0.018879             0.034727             0.109677   \n",
              "\n",
              "  poverty_prop  \n",
              "0     0.172299  \n",
              "1     0.092998  \n",
              "\n",
              "[2 rows x 30 columns]"
            ],
            "text/html": [
              "\n",
              "  <div id=\"df-1e68cd12-e8f9-4ab2-ab6c-8f60d6a2e8af\">\n",
              "    <div class=\"colab-df-container\">\n",
              "      <div>\n",
              "<style scoped>\n",
              "    .dataframe tbody tr th:only-of-type {\n",
              "        vertical-align: middle;\n",
              "    }\n",
              "\n",
              "    .dataframe tbody tr th {\n",
              "        vertical-align: top;\n",
              "    }\n",
              "\n",
              "    .dataframe thead th {\n",
              "        text-align: right;\n",
              "    }\n",
              "</style>\n",
              "<table border=\"1\" class=\"dataframe\">\n",
              "  <thead>\n",
              "    <tr style=\"text-align: right;\">\n",
              "      <th></th>\n",
              "      <th>NAME</th>\n",
              "      <th>total_pop</th>\n",
              "      <th>only_white</th>\n",
              "      <th>only_black</th>\n",
              "      <th>poverty_total</th>\n",
              "      <th>no_hs_unemployed</th>\n",
              "      <th>no_hs</th>\n",
              "      <th>hs_diploma</th>\n",
              "      <th>hs_unemployed</th>\n",
              "      <th>bach_unemployed</th>\n",
              "      <th>...</th>\n",
              "      <th>State</th>\n",
              "      <th>only_white_prop</th>\n",
              "      <th>only_black_prop</th>\n",
              "      <th>no_hs_prop</th>\n",
              "      <th>hs_prop</th>\n",
              "      <th>bach_prop</th>\n",
              "      <th>total_unemployed</th>\n",
              "      <th>white_uncovered_prop</th>\n",
              "      <th>black_uncovered_prop</th>\n",
              "      <th>poverty_prop</th>\n",
              "    </tr>\n",
              "  </thead>\n",
              "  <tbody>\n",
              "    <tr>\n",
              "      <th>0</th>\n",
              "      <td>Fayette County, Illinois</td>\n",
              "      <td>21565.0</td>\n",
              "      <td>20245.0</td>\n",
              "      <td>1007.0</td>\n",
              "      <td>19855.0</td>\n",
              "      <td>67.0</td>\n",
              "      <td>1678.0</td>\n",
              "      <td>4165.0</td>\n",
              "      <td>186.0</td>\n",
              "      <td>3.0</td>\n",
              "      <td>...</td>\n",
              "      <td>Illinois</td>\n",
              "      <td>0.938790</td>\n",
              "      <td>0.046696</td>\n",
              "      <td>0.149222</td>\n",
              "      <td>0.370387</td>\n",
              "      <td>0.110538</td>\n",
              "      <td>0.022766</td>\n",
              "      <td>0.069369</td>\n",
              "      <td>0.000000</td>\n",
              "      <td>0.172299</td>\n",
              "    </tr>\n",
              "    <tr>\n",
              "      <th>1</th>\n",
              "      <td>Logan County, Illinois</td>\n",
              "      <td>29003.0</td>\n",
              "      <td>25667.0</td>\n",
              "      <td>2003.0</td>\n",
              "      <td>24979.0</td>\n",
              "      <td>44.0</td>\n",
              "      <td>1771.0</td>\n",
              "      <td>4844.0</td>\n",
              "      <td>221.0</td>\n",
              "      <td>21.0</td>\n",
              "      <td>...</td>\n",
              "      <td>Illinois</td>\n",
              "      <td>0.884977</td>\n",
              "      <td>0.069062</td>\n",
              "      <td>0.116905</td>\n",
              "      <td>0.319757</td>\n",
              "      <td>0.195590</td>\n",
              "      <td>0.018879</td>\n",
              "      <td>0.034727</td>\n",
              "      <td>0.109677</td>\n",
              "      <td>0.092998</td>\n",
              "    </tr>\n",
              "  </tbody>\n",
              "</table>\n",
              "<p>2 rows × 30 columns</p>\n",
              "</div>\n",
              "      <button class=\"colab-df-convert\" onclick=\"convertToInteractive('df-1e68cd12-e8f9-4ab2-ab6c-8f60d6a2e8af')\"\n",
              "              title=\"Convert this dataframe to an interactive table.\"\n",
              "              style=\"display:none;\">\n",
              "        \n",
              "  <svg xmlns=\"http://www.w3.org/2000/svg\" height=\"24px\"viewBox=\"0 0 24 24\"\n",
              "       width=\"24px\">\n",
              "    <path d=\"M0 0h24v24H0V0z\" fill=\"none\"/>\n",
              "    <path d=\"M18.56 5.44l.94 2.06.94-2.06 2.06-.94-2.06-.94-.94-2.06-.94 2.06-2.06.94zm-11 1L8.5 8.5l.94-2.06 2.06-.94-2.06-.94L8.5 2.5l-.94 2.06-2.06.94zm10 10l.94 2.06.94-2.06 2.06-.94-2.06-.94-.94-2.06-.94 2.06-2.06.94z\"/><path d=\"M17.41 7.96l-1.37-1.37c-.4-.4-.92-.59-1.43-.59-.52 0-1.04.2-1.43.59L10.3 9.45l-7.72 7.72c-.78.78-.78 2.05 0 2.83L4 21.41c.39.39.9.59 1.41.59.51 0 1.02-.2 1.41-.59l7.78-7.78 2.81-2.81c.8-.78.8-2.07 0-2.86zM5.41 20L4 18.59l7.72-7.72 1.47 1.35L5.41 20z\"/>\n",
              "  </svg>\n",
              "      </button>\n",
              "      \n",
              "  <style>\n",
              "    .colab-df-container {\n",
              "      display:flex;\n",
              "      flex-wrap:wrap;\n",
              "      gap: 12px;\n",
              "    }\n",
              "\n",
              "    .colab-df-convert {\n",
              "      background-color: #E8F0FE;\n",
              "      border: none;\n",
              "      border-radius: 50%;\n",
              "      cursor: pointer;\n",
              "      display: none;\n",
              "      fill: #1967D2;\n",
              "      height: 32px;\n",
              "      padding: 0 0 0 0;\n",
              "      width: 32px;\n",
              "    }\n",
              "\n",
              "    .colab-df-convert:hover {\n",
              "      background-color: #E2EBFA;\n",
              "      box-shadow: 0px 1px 2px rgba(60, 64, 67, 0.3), 0px 1px 3px 1px rgba(60, 64, 67, 0.15);\n",
              "      fill: #174EA6;\n",
              "    }\n",
              "\n",
              "    [theme=dark] .colab-df-convert {\n",
              "      background-color: #3B4455;\n",
              "      fill: #D2E3FC;\n",
              "    }\n",
              "\n",
              "    [theme=dark] .colab-df-convert:hover {\n",
              "      background-color: #434B5C;\n",
              "      box-shadow: 0px 1px 3px 1px rgba(0, 0, 0, 0.15);\n",
              "      filter: drop-shadow(0px 1px 2px rgba(0, 0, 0, 0.3));\n",
              "      fill: #FFFFFF;\n",
              "    }\n",
              "  </style>\n",
              "\n",
              "      <script>\n",
              "        const buttonEl =\n",
              "          document.querySelector('#df-1e68cd12-e8f9-4ab2-ab6c-8f60d6a2e8af button.colab-df-convert');\n",
              "        buttonEl.style.display =\n",
              "          google.colab.kernel.accessAllowed ? 'block' : 'none';\n",
              "\n",
              "        async function convertToInteractive(key) {\n",
              "          const element = document.querySelector('#df-1e68cd12-e8f9-4ab2-ab6c-8f60d6a2e8af');\n",
              "          const dataTable =\n",
              "            await google.colab.kernel.invokeFunction('convertToInteractive',\n",
              "                                                     [key], {});\n",
              "          if (!dataTable) return;\n",
              "\n",
              "          const docLinkHtml = 'Like what you see? Visit the ' +\n",
              "            '<a target=\"_blank\" href=https://colab.research.google.com/notebooks/data_table.ipynb>data table notebook</a>'\n",
              "            + ' to learn more about interactive tables.';\n",
              "          element.innerHTML = '';\n",
              "          dataTable['output_type'] = 'display_data';\n",
              "          await google.colab.output.renderOutput(dataTable, element);\n",
              "          const docLink = document.createElement('div');\n",
              "          docLink.innerHTML = docLinkHtml;\n",
              "          element.appendChild(docLink);\n",
              "        }\n",
              "      </script>\n",
              "    </div>\n",
              "  </div>\n",
              "  "
            ]
          },
          "metadata": {},
          "execution_count": 31
        }
      ]
    },
    {
      "cell_type": "code",
      "source": [
        "census_df.to_excel(\"census.xlsx\")"
      ],
      "metadata": {
        "id": "zUp_mhCtGACg"
      },
      "execution_count": null,
      "outputs": []
    },
    {
      "cell_type": "markdown",
      "source": [
        "Use BeautifulSoup to web scrape Wikipedia tables for the list of counties with superfund sites "
      ],
      "metadata": {
        "id": "CvroklTk2JQa"
      }
    },
    {
      "cell_type": "code",
      "source": [
        "!pip install beautifulsoup4"
      ],
      "metadata": {
        "colab": {
          "base_uri": "https://localhost:8080/"
        },
        "id": "RM-XM1zF2Inq",
        "outputId": "c9b06448-f617-44f4-9ed5-ffae1aa0c5c1"
      },
      "execution_count": null,
      "outputs": [
        {
          "output_type": "stream",
          "name": "stdout",
          "text": [
            "Looking in indexes: https://pypi.org/simple, https://us-python.pkg.dev/colab-wheels/public/simple/\n",
            "Requirement already satisfied: beautifulsoup4 in /usr/local/lib/python3.7/dist-packages (4.6.3)\n"
          ]
        }
      ]
    },
    {
      "cell_type": "code",
      "source": [
        "\n",
        "import requests # library to handle requests\n",
        "from bs4 import BeautifulSoup # library to parse HTML documents\n",
        "\n",
        "states = [\"Alabama\", \"Alaska\", \"Arizona\", \"Arkansas\", \"California\", \"Colorado\", \"Connecticut\", \"Delaware\", \n",
        "          \"Washington,_D.C.\", \"Florida\", \"Georgia\", \"Hawaii\", \"Idaho\", \"Illinois\", \"Indiana\", \"Iowa\", \"Kansas\", \n",
        "          \"Kentucky\", \"Louisiana\", \"Maine\", \"Maryland\", \"Massachusetts\", \"Michigan\", \"Minnesota\", \"Mississippi\", \"Missouri\", \n",
        "          \"Montana\", \"Nebraska\", \"Nevada\", \"New_Hampshire\", \"New_Jersey\", \"New_Mexico\", \"New_York\", \"North_Carolina\", \"North_Dakota\", \n",
        "          \"Ohio\", \"Oklahoma\", \"Oregon\", \"Pennsylvania\", \"Rhode Island\", \"South Carolina\", \"South Dakota\", \"Tennessee\", \"Texas\", \"Utah\", \n",
        "          \"Vermont\", \"Virginia\", \"Washington\", \"West_Virginia\", \"Wisconsin\", \"Wyoming\"]\n",
        "\n",
        "full_df = pd.DataFrame()\n",
        "\n",
        "for state in states:\n",
        "  # get the response in the form of html\n",
        "  wikiurl = \"https://en.wikipedia.org/wiki/List_of_Superfund_sites_in_\" + state\n",
        "  table_class = \"wikitable sortable jquery-tablesorter\"\n",
        "  response = requests.get(wikiurl)\n",
        "\n",
        "  # parse data from the html into a beautifulsoup object\n",
        "  soup = BeautifulSoup(response.text, 'html.parser')\n",
        "  # might be more than 1 table per page\n",
        "  all_tables = soup.find_all('table',{'class':\"wikitable\"})\n",
        "  #loop through tables\n",
        "  for table in all_tables:\n",
        "    df = pd.read_html(str(table))\n",
        "    # convert list to dataframe\n",
        "    df = pd.DataFrame(df[0])\n",
        "    df = df.rename(columns={\"Parish\": \"County\"})\n",
        "    df = df.rename(columns={\"Borough or Census Area\": \"County\"})\n",
        "    df = df.rename(columns={\"Town/County\": \"County\"})\n",
        "    df[\"State\"] = state\n",
        "    full_df = full_df.append(df, ignore_index=True)\n",
        "\n",
        "\n"
      ],
      "metadata": {
        "id": "tdcnlQp62lbJ"
      },
      "execution_count": null,
      "outputs": []
    },
    {
      "cell_type": "code",
      "source": [
        "print('Shape: ', full_df.shape)\n",
        "census_df[\"County\"] = census_df[\"County\"].str.replace('City of ', '')\n",
        "census_df[\"County\"] = census_df[\"County\"].str.replace(' Co.', '')\n",
        "superfunds = full_df.filter(items=['County', 'State', 'CERCLIS ID'])\n",
        "superfunds.head(2)\n",
        "#superfunds.to_excel(\"superfunds.xlsx\")\n"
      ],
      "metadata": {
        "colab": {
          "base_uri": "https://localhost:8080/",
          "height": 186
        },
        "id": "JY-u7WPZyQJa",
        "outputId": "11f0f165-d530-4dcc-b6a1-b76e7fbdb359"
      },
      "execution_count": null,
      "outputs": [
        {
          "output_type": "stream",
          "name": "stdout",
          "text": [
            "Shape:  (1690, 56)\n"
          ]
        },
        {
          "output_type": "stream",
          "name": "stderr",
          "text": [
            "/usr/local/lib/python3.7/dist-packages/ipykernel_launcher.py:3: FutureWarning: The default value of regex will change from True to False in a future version.\n",
            "  This is separate from the ipykernel package so we can avoid doing imports until\n"
          ]
        },
        {
          "output_type": "execute_result",
          "data": {
            "text/plain": [
              "      County    State    CERCLIS ID\n",
              "0  Jefferson  Alabama  ALN000410750\n",
              "1  Talladega  Alabama  AL6210020008"
            ],
            "text/html": [
              "\n",
              "  <div id=\"df-e069fff2-70e3-47c7-9a9b-cc8e298ef153\">\n",
              "    <div class=\"colab-df-container\">\n",
              "      <div>\n",
              "<style scoped>\n",
              "    .dataframe tbody tr th:only-of-type {\n",
              "        vertical-align: middle;\n",
              "    }\n",
              "\n",
              "    .dataframe tbody tr th {\n",
              "        vertical-align: top;\n",
              "    }\n",
              "\n",
              "    .dataframe thead th {\n",
              "        text-align: right;\n",
              "    }\n",
              "</style>\n",
              "<table border=\"1\" class=\"dataframe\">\n",
              "  <thead>\n",
              "    <tr style=\"text-align: right;\">\n",
              "      <th></th>\n",
              "      <th>County</th>\n",
              "      <th>State</th>\n",
              "      <th>CERCLIS ID</th>\n",
              "    </tr>\n",
              "  </thead>\n",
              "  <tbody>\n",
              "    <tr>\n",
              "      <th>0</th>\n",
              "      <td>Jefferson</td>\n",
              "      <td>Alabama</td>\n",
              "      <td>ALN000410750</td>\n",
              "    </tr>\n",
              "    <tr>\n",
              "      <th>1</th>\n",
              "      <td>Talladega</td>\n",
              "      <td>Alabama</td>\n",
              "      <td>AL6210020008</td>\n",
              "    </tr>\n",
              "  </tbody>\n",
              "</table>\n",
              "</div>\n",
              "      <button class=\"colab-df-convert\" onclick=\"convertToInteractive('df-e069fff2-70e3-47c7-9a9b-cc8e298ef153')\"\n",
              "              title=\"Convert this dataframe to an interactive table.\"\n",
              "              style=\"display:none;\">\n",
              "        \n",
              "  <svg xmlns=\"http://www.w3.org/2000/svg\" height=\"24px\"viewBox=\"0 0 24 24\"\n",
              "       width=\"24px\">\n",
              "    <path d=\"M0 0h24v24H0V0z\" fill=\"none\"/>\n",
              "    <path d=\"M18.56 5.44l.94 2.06.94-2.06 2.06-.94-2.06-.94-.94-2.06-.94 2.06-2.06.94zm-11 1L8.5 8.5l.94-2.06 2.06-.94-2.06-.94L8.5 2.5l-.94 2.06-2.06.94zm10 10l.94 2.06.94-2.06 2.06-.94-2.06-.94-.94-2.06-.94 2.06-2.06.94z\"/><path d=\"M17.41 7.96l-1.37-1.37c-.4-.4-.92-.59-1.43-.59-.52 0-1.04.2-1.43.59L10.3 9.45l-7.72 7.72c-.78.78-.78 2.05 0 2.83L4 21.41c.39.39.9.59 1.41.59.51 0 1.02-.2 1.41-.59l7.78-7.78 2.81-2.81c.8-.78.8-2.07 0-2.86zM5.41 20L4 18.59l7.72-7.72 1.47 1.35L5.41 20z\"/>\n",
              "  </svg>\n",
              "      </button>\n",
              "      \n",
              "  <style>\n",
              "    .colab-df-container {\n",
              "      display:flex;\n",
              "      flex-wrap:wrap;\n",
              "      gap: 12px;\n",
              "    }\n",
              "\n",
              "    .colab-df-convert {\n",
              "      background-color: #E8F0FE;\n",
              "      border: none;\n",
              "      border-radius: 50%;\n",
              "      cursor: pointer;\n",
              "      display: none;\n",
              "      fill: #1967D2;\n",
              "      height: 32px;\n",
              "      padding: 0 0 0 0;\n",
              "      width: 32px;\n",
              "    }\n",
              "\n",
              "    .colab-df-convert:hover {\n",
              "      background-color: #E2EBFA;\n",
              "      box-shadow: 0px 1px 2px rgba(60, 64, 67, 0.3), 0px 1px 3px 1px rgba(60, 64, 67, 0.15);\n",
              "      fill: #174EA6;\n",
              "    }\n",
              "\n",
              "    [theme=dark] .colab-df-convert {\n",
              "      background-color: #3B4455;\n",
              "      fill: #D2E3FC;\n",
              "    }\n",
              "\n",
              "    [theme=dark] .colab-df-convert:hover {\n",
              "      background-color: #434B5C;\n",
              "      box-shadow: 0px 1px 3px 1px rgba(0, 0, 0, 0.15);\n",
              "      filter: drop-shadow(0px 1px 2px rgba(0, 0, 0, 0.3));\n",
              "      fill: #FFFFFF;\n",
              "    }\n",
              "  </style>\n",
              "\n",
              "      <script>\n",
              "        const buttonEl =\n",
              "          document.querySelector('#df-e069fff2-70e3-47c7-9a9b-cc8e298ef153 button.colab-df-convert');\n",
              "        buttonEl.style.display =\n",
              "          google.colab.kernel.accessAllowed ? 'block' : 'none';\n",
              "\n",
              "        async function convertToInteractive(key) {\n",
              "          const element = document.querySelector('#df-e069fff2-70e3-47c7-9a9b-cc8e298ef153');\n",
              "          const dataTable =\n",
              "            await google.colab.kernel.invokeFunction('convertToInteractive',\n",
              "                                                     [key], {});\n",
              "          if (!dataTable) return;\n",
              "\n",
              "          const docLinkHtml = 'Like what you see? Visit the ' +\n",
              "            '<a target=\"_blank\" href=https://colab.research.google.com/notebooks/data_table.ipynb>data table notebook</a>'\n",
              "            + ' to learn more about interactive tables.';\n",
              "          element.innerHTML = '';\n",
              "          dataTable['output_type'] = 'display_data';\n",
              "          await google.colab.output.renderOutput(dataTable, element);\n",
              "          const docLink = document.createElement('div');\n",
              "          docLink.innerHTML = docLinkHtml;\n",
              "          element.appendChild(docLink);\n",
              "        }\n",
              "      </script>\n",
              "    </div>\n",
              "  </div>\n",
              "  "
            ]
          },
          "metadata": {},
          "execution_count": 34
        }
      ]
    },
    {
      "cell_type": "markdown",
      "source": [
        "Join tables"
      ],
      "metadata": {
        "id": "2n6dDMha1xnd"
      }
    },
    {
      "cell_type": "code",
      "source": [
        "full_ds = pd.merge(census_df, superfunds, how=\"left\", on=[\"County\", \"State\"])\n",
        "print('Shape: ', full_ds.shape[0])\n"
      ],
      "metadata": {
        "colab": {
          "base_uri": "https://localhost:8080/"
        },
        "id": "1p_rr9Bp1zDW",
        "outputId": "b1ef197d-be1d-4140-99df-bcf62648bd5a"
      },
      "execution_count": null,
      "outputs": [
        {
          "output_type": "stream",
          "name": "stdout",
          "text": [
            "Shape:  3898\n"
          ]
        }
      ]
    },
    {
      "cell_type": "code",
      "source": [
        "# drop duplicate rows where there are multiple superfund cites in 1 county\n",
        "full_ds.drop_duplicates(subset=['County', 'State'], inplace=True)\n",
        "print('Shape: ', full_ds.shape[0])\n",
        "#full_ds.to_excel(\"final_table2.xlsx\") \n",
        "full_ds.head(5)"
      ],
      "metadata": {
        "colab": {
          "base_uri": "https://localhost:8080/",
          "height": 491
        },
        "id": "VBJ5-N3l2sKS",
        "outputId": "ac9a4201-2667-46bc-acaa-59e7d6cad304"
      },
      "execution_count": null,
      "outputs": [
        {
          "output_type": "stream",
          "name": "stdout",
          "text": [
            "Shape:  3214\n"
          ]
        },
        {
          "output_type": "execute_result",
          "data": {
            "text/plain": [
              "                       NAME  total_pop  only_white  only_black  poverty_total  \\\n",
              "0  Fayette County, Illinois    21565.0     20245.0      1007.0        19855.0   \n",
              "1    Logan County, Illinois    29003.0     25667.0      2003.0        24979.0   \n",
              "2   Saline County, Illinois    23994.0     22234.0       632.0        23435.0   \n",
              "3     Lake County, Illinois   701473.0    531609.0     47385.0       684107.0   \n",
              "8   Massac County, Illinois    14219.0     12956.0       830.0        13918.0   \n",
              "\n",
              "   no_hs_unemployed    no_hs  hs_diploma  hs_unemployed  bach_unemployed  ...  \\\n",
              "0              67.0   1678.0      4165.0          186.0              3.0  ...   \n",
              "1              44.0   1771.0      4844.0          221.0             21.0  ...   \n",
              "2              99.0   1401.0      2967.0          141.0             26.0  ...   \n",
              "3            1592.0  32379.0     70454.0         2992.0           4314.0  ...   \n",
              "8              24.0    794.0      2061.0           54.0             48.0  ...   \n",
              "\n",
              "   only_white_prop  only_black_prop  no_hs_prop   hs_prop  bach_prop  \\\n",
              "0         0.938790         0.046696    0.149222  0.370387   0.110538   \n",
              "1         0.884977         0.069062    0.116905  0.319757   0.195590   \n",
              "2         0.926648         0.026340    0.113644  0.240672   0.200114   \n",
              "3         0.757847         0.067551    0.089609  0.194981   0.467439   \n",
              "8         0.911175         0.058373    0.112481  0.291968   0.160646   \n",
              "\n",
              "   total_unemployed  white_uncovered_prop black_uncovered_prop poverty_prop  \\\n",
              "0          0.022766              0.069369             0.000000     0.172299   \n",
              "1          0.018879              0.034727             0.109677     0.092998   \n",
              "2          0.021577              0.034682             0.012456     0.210625   \n",
              "3          0.024625              0.048261             0.058281     0.079334   \n",
              "8          0.017850              0.041863             0.040541     0.167481   \n",
              "\n",
              "     CERCLIS ID  \n",
              "0           NaN  \n",
              "1           NaN  \n",
              "2           NaN  \n",
              "3  ILD000802827  \n",
              "8           NaN  \n",
              "\n",
              "[5 rows x 31 columns]"
            ],
            "text/html": [
              "\n",
              "  <div id=\"df-88f42d1b-7899-420e-b52f-01850be077f1\">\n",
              "    <div class=\"colab-df-container\">\n",
              "      <div>\n",
              "<style scoped>\n",
              "    .dataframe tbody tr th:only-of-type {\n",
              "        vertical-align: middle;\n",
              "    }\n",
              "\n",
              "    .dataframe tbody tr th {\n",
              "        vertical-align: top;\n",
              "    }\n",
              "\n",
              "    .dataframe thead th {\n",
              "        text-align: right;\n",
              "    }\n",
              "</style>\n",
              "<table border=\"1\" class=\"dataframe\">\n",
              "  <thead>\n",
              "    <tr style=\"text-align: right;\">\n",
              "      <th></th>\n",
              "      <th>NAME</th>\n",
              "      <th>total_pop</th>\n",
              "      <th>only_white</th>\n",
              "      <th>only_black</th>\n",
              "      <th>poverty_total</th>\n",
              "      <th>no_hs_unemployed</th>\n",
              "      <th>no_hs</th>\n",
              "      <th>hs_diploma</th>\n",
              "      <th>hs_unemployed</th>\n",
              "      <th>bach_unemployed</th>\n",
              "      <th>...</th>\n",
              "      <th>only_white_prop</th>\n",
              "      <th>only_black_prop</th>\n",
              "      <th>no_hs_prop</th>\n",
              "      <th>hs_prop</th>\n",
              "      <th>bach_prop</th>\n",
              "      <th>total_unemployed</th>\n",
              "      <th>white_uncovered_prop</th>\n",
              "      <th>black_uncovered_prop</th>\n",
              "      <th>poverty_prop</th>\n",
              "      <th>CERCLIS ID</th>\n",
              "    </tr>\n",
              "  </thead>\n",
              "  <tbody>\n",
              "    <tr>\n",
              "      <th>0</th>\n",
              "      <td>Fayette County, Illinois</td>\n",
              "      <td>21565.0</td>\n",
              "      <td>20245.0</td>\n",
              "      <td>1007.0</td>\n",
              "      <td>19855.0</td>\n",
              "      <td>67.0</td>\n",
              "      <td>1678.0</td>\n",
              "      <td>4165.0</td>\n",
              "      <td>186.0</td>\n",
              "      <td>3.0</td>\n",
              "      <td>...</td>\n",
              "      <td>0.938790</td>\n",
              "      <td>0.046696</td>\n",
              "      <td>0.149222</td>\n",
              "      <td>0.370387</td>\n",
              "      <td>0.110538</td>\n",
              "      <td>0.022766</td>\n",
              "      <td>0.069369</td>\n",
              "      <td>0.000000</td>\n",
              "      <td>0.172299</td>\n",
              "      <td>NaN</td>\n",
              "    </tr>\n",
              "    <tr>\n",
              "      <th>1</th>\n",
              "      <td>Logan County, Illinois</td>\n",
              "      <td>29003.0</td>\n",
              "      <td>25667.0</td>\n",
              "      <td>2003.0</td>\n",
              "      <td>24979.0</td>\n",
              "      <td>44.0</td>\n",
              "      <td>1771.0</td>\n",
              "      <td>4844.0</td>\n",
              "      <td>221.0</td>\n",
              "      <td>21.0</td>\n",
              "      <td>...</td>\n",
              "      <td>0.884977</td>\n",
              "      <td>0.069062</td>\n",
              "      <td>0.116905</td>\n",
              "      <td>0.319757</td>\n",
              "      <td>0.195590</td>\n",
              "      <td>0.018879</td>\n",
              "      <td>0.034727</td>\n",
              "      <td>0.109677</td>\n",
              "      <td>0.092998</td>\n",
              "      <td>NaN</td>\n",
              "    </tr>\n",
              "    <tr>\n",
              "      <th>2</th>\n",
              "      <td>Saline County, Illinois</td>\n",
              "      <td>23994.0</td>\n",
              "      <td>22234.0</td>\n",
              "      <td>632.0</td>\n",
              "      <td>23435.0</td>\n",
              "      <td>99.0</td>\n",
              "      <td>1401.0</td>\n",
              "      <td>2967.0</td>\n",
              "      <td>141.0</td>\n",
              "      <td>26.0</td>\n",
              "      <td>...</td>\n",
              "      <td>0.926648</td>\n",
              "      <td>0.026340</td>\n",
              "      <td>0.113644</td>\n",
              "      <td>0.240672</td>\n",
              "      <td>0.200114</td>\n",
              "      <td>0.021577</td>\n",
              "      <td>0.034682</td>\n",
              "      <td>0.012456</td>\n",
              "      <td>0.210625</td>\n",
              "      <td>NaN</td>\n",
              "    </tr>\n",
              "    <tr>\n",
              "      <th>3</th>\n",
              "      <td>Lake County, Illinois</td>\n",
              "      <td>701473.0</td>\n",
              "      <td>531609.0</td>\n",
              "      <td>47385.0</td>\n",
              "      <td>684107.0</td>\n",
              "      <td>1592.0</td>\n",
              "      <td>32379.0</td>\n",
              "      <td>70454.0</td>\n",
              "      <td>2992.0</td>\n",
              "      <td>4314.0</td>\n",
              "      <td>...</td>\n",
              "      <td>0.757847</td>\n",
              "      <td>0.067551</td>\n",
              "      <td>0.089609</td>\n",
              "      <td>0.194981</td>\n",
              "      <td>0.467439</td>\n",
              "      <td>0.024625</td>\n",
              "      <td>0.048261</td>\n",
              "      <td>0.058281</td>\n",
              "      <td>0.079334</td>\n",
              "      <td>ILD000802827</td>\n",
              "    </tr>\n",
              "    <tr>\n",
              "      <th>8</th>\n",
              "      <td>Massac County, Illinois</td>\n",
              "      <td>14219.0</td>\n",
              "      <td>12956.0</td>\n",
              "      <td>830.0</td>\n",
              "      <td>13918.0</td>\n",
              "      <td>24.0</td>\n",
              "      <td>794.0</td>\n",
              "      <td>2061.0</td>\n",
              "      <td>54.0</td>\n",
              "      <td>48.0</td>\n",
              "      <td>...</td>\n",
              "      <td>0.911175</td>\n",
              "      <td>0.058373</td>\n",
              "      <td>0.112481</td>\n",
              "      <td>0.291968</td>\n",
              "      <td>0.160646</td>\n",
              "      <td>0.017850</td>\n",
              "      <td>0.041863</td>\n",
              "      <td>0.040541</td>\n",
              "      <td>0.167481</td>\n",
              "      <td>NaN</td>\n",
              "    </tr>\n",
              "  </tbody>\n",
              "</table>\n",
              "<p>5 rows × 31 columns</p>\n",
              "</div>\n",
              "      <button class=\"colab-df-convert\" onclick=\"convertToInteractive('df-88f42d1b-7899-420e-b52f-01850be077f1')\"\n",
              "              title=\"Convert this dataframe to an interactive table.\"\n",
              "              style=\"display:none;\">\n",
              "        \n",
              "  <svg xmlns=\"http://www.w3.org/2000/svg\" height=\"24px\"viewBox=\"0 0 24 24\"\n",
              "       width=\"24px\">\n",
              "    <path d=\"M0 0h24v24H0V0z\" fill=\"none\"/>\n",
              "    <path d=\"M18.56 5.44l.94 2.06.94-2.06 2.06-.94-2.06-.94-.94-2.06-.94 2.06-2.06.94zm-11 1L8.5 8.5l.94-2.06 2.06-.94-2.06-.94L8.5 2.5l-.94 2.06-2.06.94zm10 10l.94 2.06.94-2.06 2.06-.94-2.06-.94-.94-2.06-.94 2.06-2.06.94z\"/><path d=\"M17.41 7.96l-1.37-1.37c-.4-.4-.92-.59-1.43-.59-.52 0-1.04.2-1.43.59L10.3 9.45l-7.72 7.72c-.78.78-.78 2.05 0 2.83L4 21.41c.39.39.9.59 1.41.59.51 0 1.02-.2 1.41-.59l7.78-7.78 2.81-2.81c.8-.78.8-2.07 0-2.86zM5.41 20L4 18.59l7.72-7.72 1.47 1.35L5.41 20z\"/>\n",
              "  </svg>\n",
              "      </button>\n",
              "      \n",
              "  <style>\n",
              "    .colab-df-container {\n",
              "      display:flex;\n",
              "      flex-wrap:wrap;\n",
              "      gap: 12px;\n",
              "    }\n",
              "\n",
              "    .colab-df-convert {\n",
              "      background-color: #E8F0FE;\n",
              "      border: none;\n",
              "      border-radius: 50%;\n",
              "      cursor: pointer;\n",
              "      display: none;\n",
              "      fill: #1967D2;\n",
              "      height: 32px;\n",
              "      padding: 0 0 0 0;\n",
              "      width: 32px;\n",
              "    }\n",
              "\n",
              "    .colab-df-convert:hover {\n",
              "      background-color: #E2EBFA;\n",
              "      box-shadow: 0px 1px 2px rgba(60, 64, 67, 0.3), 0px 1px 3px 1px rgba(60, 64, 67, 0.15);\n",
              "      fill: #174EA6;\n",
              "    }\n",
              "\n",
              "    [theme=dark] .colab-df-convert {\n",
              "      background-color: #3B4455;\n",
              "      fill: #D2E3FC;\n",
              "    }\n",
              "\n",
              "    [theme=dark] .colab-df-convert:hover {\n",
              "      background-color: #434B5C;\n",
              "      box-shadow: 0px 1px 3px 1px rgba(0, 0, 0, 0.15);\n",
              "      filter: drop-shadow(0px 1px 2px rgba(0, 0, 0, 0.3));\n",
              "      fill: #FFFFFF;\n",
              "    }\n",
              "  </style>\n",
              "\n",
              "      <script>\n",
              "        const buttonEl =\n",
              "          document.querySelector('#df-88f42d1b-7899-420e-b52f-01850be077f1 button.colab-df-convert');\n",
              "        buttonEl.style.display =\n",
              "          google.colab.kernel.accessAllowed ? 'block' : 'none';\n",
              "\n",
              "        async function convertToInteractive(key) {\n",
              "          const element = document.querySelector('#df-88f42d1b-7899-420e-b52f-01850be077f1');\n",
              "          const dataTable =\n",
              "            await google.colab.kernel.invokeFunction('convertToInteractive',\n",
              "                                                     [key], {});\n",
              "          if (!dataTable) return;\n",
              "\n",
              "          const docLinkHtml = 'Like what you see? Visit the ' +\n",
              "            '<a target=\"_blank\" href=https://colab.research.google.com/notebooks/data_table.ipynb>data table notebook</a>'\n",
              "            + ' to learn more about interactive tables.';\n",
              "          element.innerHTML = '';\n",
              "          dataTable['output_type'] = 'display_data';\n",
              "          await google.colab.output.renderOutput(dataTable, element);\n",
              "          const docLink = document.createElement('div');\n",
              "          docLink.innerHTML = docLinkHtml;\n",
              "          element.appendChild(docLink);\n",
              "        }\n",
              "      </script>\n",
              "    </div>\n",
              "  </div>\n",
              "  "
            ]
          },
          "metadata": {},
          "execution_count": 36
        }
      ]
    },
    {
      "cell_type": "code",
      "source": [
        "import numpy as np\n",
        "\n",
        "#full_ds['CERCLIS ID'] = np.where(full_ds['CERCLIS ID']!=np.NaN, 1, 0)\n",
        "full_ds['CERCLIS ID'] = full_ds['CERCLIS ID'].fillna(0)\n",
        "\n",
        "# Replace empty values in the new column with \"1\"\n",
        "full_ds['CERCLIS ID'] = full_ds['CERCLIS ID'].apply(lambda x: 1 if x != 0 else 0)\n",
        "\n",
        "# New column to see if people of color population proportion is larger than average\n",
        "full_ds['non_white_greater_than_avg'] = full_ds['only_white_prop'].apply(lambda x: 1 if x <= 0.758 else 0)\n",
        "full_ds.iloc[:,19:].head(5)"
      ],
      "metadata": {
        "colab": {
          "base_uri": "https://localhost:8080/",
          "height": 288
        },
        "id": "vMqEz_GBF-Y9",
        "outputId": "d77621d8-ad9e-49a3-d395-7d7ba03bd93e"
      },
      "execution_count": null,
      "outputs": [
        {
          "output_type": "execute_result",
          "data": {
            "text/plain": [
              "    County     State  only_white_prop  only_black_prop  no_hs_prop   hs_prop  \\\n",
              "0  Fayette  Illinois         0.938790         0.046696    0.149222  0.370387   \n",
              "1    Logan  Illinois         0.884977         0.069062    0.116905  0.319757   \n",
              "2   Saline  Illinois         0.926648         0.026340    0.113644  0.240672   \n",
              "3     Lake  Illinois         0.757847         0.067551    0.089609  0.194981   \n",
              "8   Massac  Illinois         0.911175         0.058373    0.112481  0.291968   \n",
              "\n",
              "   bach_prop  total_unemployed  white_uncovered_prop  black_uncovered_prop  \\\n",
              "0   0.110538          0.022766              0.069369              0.000000   \n",
              "1   0.195590          0.018879              0.034727              0.109677   \n",
              "2   0.200114          0.021577              0.034682              0.012456   \n",
              "3   0.467439          0.024625              0.048261              0.058281   \n",
              "8   0.160646          0.017850              0.041863              0.040541   \n",
              "\n",
              "   poverty_prop  CERCLIS ID  non_white_greater_than_avg  \n",
              "0      0.172299           0                           0  \n",
              "1      0.092998           0                           0  \n",
              "2      0.210625           0                           0  \n",
              "3      0.079334           1                           1  \n",
              "8      0.167481           0                           0  "
            ],
            "text/html": [
              "\n",
              "  <div id=\"df-4f389bc8-e7f1-409a-830b-642c65fd2ffc\">\n",
              "    <div class=\"colab-df-container\">\n",
              "      <div>\n",
              "<style scoped>\n",
              "    .dataframe tbody tr th:only-of-type {\n",
              "        vertical-align: middle;\n",
              "    }\n",
              "\n",
              "    .dataframe tbody tr th {\n",
              "        vertical-align: top;\n",
              "    }\n",
              "\n",
              "    .dataframe thead th {\n",
              "        text-align: right;\n",
              "    }\n",
              "</style>\n",
              "<table border=\"1\" class=\"dataframe\">\n",
              "  <thead>\n",
              "    <tr style=\"text-align: right;\">\n",
              "      <th></th>\n",
              "      <th>County</th>\n",
              "      <th>State</th>\n",
              "      <th>only_white_prop</th>\n",
              "      <th>only_black_prop</th>\n",
              "      <th>no_hs_prop</th>\n",
              "      <th>hs_prop</th>\n",
              "      <th>bach_prop</th>\n",
              "      <th>total_unemployed</th>\n",
              "      <th>white_uncovered_prop</th>\n",
              "      <th>black_uncovered_prop</th>\n",
              "      <th>poverty_prop</th>\n",
              "      <th>CERCLIS ID</th>\n",
              "      <th>non_white_greater_than_avg</th>\n",
              "    </tr>\n",
              "  </thead>\n",
              "  <tbody>\n",
              "    <tr>\n",
              "      <th>0</th>\n",
              "      <td>Fayette</td>\n",
              "      <td>Illinois</td>\n",
              "      <td>0.938790</td>\n",
              "      <td>0.046696</td>\n",
              "      <td>0.149222</td>\n",
              "      <td>0.370387</td>\n",
              "      <td>0.110538</td>\n",
              "      <td>0.022766</td>\n",
              "      <td>0.069369</td>\n",
              "      <td>0.000000</td>\n",
              "      <td>0.172299</td>\n",
              "      <td>0</td>\n",
              "      <td>0</td>\n",
              "    </tr>\n",
              "    <tr>\n",
              "      <th>1</th>\n",
              "      <td>Logan</td>\n",
              "      <td>Illinois</td>\n",
              "      <td>0.884977</td>\n",
              "      <td>0.069062</td>\n",
              "      <td>0.116905</td>\n",
              "      <td>0.319757</td>\n",
              "      <td>0.195590</td>\n",
              "      <td>0.018879</td>\n",
              "      <td>0.034727</td>\n",
              "      <td>0.109677</td>\n",
              "      <td>0.092998</td>\n",
              "      <td>0</td>\n",
              "      <td>0</td>\n",
              "    </tr>\n",
              "    <tr>\n",
              "      <th>2</th>\n",
              "      <td>Saline</td>\n",
              "      <td>Illinois</td>\n",
              "      <td>0.926648</td>\n",
              "      <td>0.026340</td>\n",
              "      <td>0.113644</td>\n",
              "      <td>0.240672</td>\n",
              "      <td>0.200114</td>\n",
              "      <td>0.021577</td>\n",
              "      <td>0.034682</td>\n",
              "      <td>0.012456</td>\n",
              "      <td>0.210625</td>\n",
              "      <td>0</td>\n",
              "      <td>0</td>\n",
              "    </tr>\n",
              "    <tr>\n",
              "      <th>3</th>\n",
              "      <td>Lake</td>\n",
              "      <td>Illinois</td>\n",
              "      <td>0.757847</td>\n",
              "      <td>0.067551</td>\n",
              "      <td>0.089609</td>\n",
              "      <td>0.194981</td>\n",
              "      <td>0.467439</td>\n",
              "      <td>0.024625</td>\n",
              "      <td>0.048261</td>\n",
              "      <td>0.058281</td>\n",
              "      <td>0.079334</td>\n",
              "      <td>1</td>\n",
              "      <td>1</td>\n",
              "    </tr>\n",
              "    <tr>\n",
              "      <th>8</th>\n",
              "      <td>Massac</td>\n",
              "      <td>Illinois</td>\n",
              "      <td>0.911175</td>\n",
              "      <td>0.058373</td>\n",
              "      <td>0.112481</td>\n",
              "      <td>0.291968</td>\n",
              "      <td>0.160646</td>\n",
              "      <td>0.017850</td>\n",
              "      <td>0.041863</td>\n",
              "      <td>0.040541</td>\n",
              "      <td>0.167481</td>\n",
              "      <td>0</td>\n",
              "      <td>0</td>\n",
              "    </tr>\n",
              "  </tbody>\n",
              "</table>\n",
              "</div>\n",
              "      <button class=\"colab-df-convert\" onclick=\"convertToInteractive('df-4f389bc8-e7f1-409a-830b-642c65fd2ffc')\"\n",
              "              title=\"Convert this dataframe to an interactive table.\"\n",
              "              style=\"display:none;\">\n",
              "        \n",
              "  <svg xmlns=\"http://www.w3.org/2000/svg\" height=\"24px\"viewBox=\"0 0 24 24\"\n",
              "       width=\"24px\">\n",
              "    <path d=\"M0 0h24v24H0V0z\" fill=\"none\"/>\n",
              "    <path d=\"M18.56 5.44l.94 2.06.94-2.06 2.06-.94-2.06-.94-.94-2.06-.94 2.06-2.06.94zm-11 1L8.5 8.5l.94-2.06 2.06-.94-2.06-.94L8.5 2.5l-.94 2.06-2.06.94zm10 10l.94 2.06.94-2.06 2.06-.94-2.06-.94-.94-2.06-.94 2.06-2.06.94z\"/><path d=\"M17.41 7.96l-1.37-1.37c-.4-.4-.92-.59-1.43-.59-.52 0-1.04.2-1.43.59L10.3 9.45l-7.72 7.72c-.78.78-.78 2.05 0 2.83L4 21.41c.39.39.9.59 1.41.59.51 0 1.02-.2 1.41-.59l7.78-7.78 2.81-2.81c.8-.78.8-2.07 0-2.86zM5.41 20L4 18.59l7.72-7.72 1.47 1.35L5.41 20z\"/>\n",
              "  </svg>\n",
              "      </button>\n",
              "      \n",
              "  <style>\n",
              "    .colab-df-container {\n",
              "      display:flex;\n",
              "      flex-wrap:wrap;\n",
              "      gap: 12px;\n",
              "    }\n",
              "\n",
              "    .colab-df-convert {\n",
              "      background-color: #E8F0FE;\n",
              "      border: none;\n",
              "      border-radius: 50%;\n",
              "      cursor: pointer;\n",
              "      display: none;\n",
              "      fill: #1967D2;\n",
              "      height: 32px;\n",
              "      padding: 0 0 0 0;\n",
              "      width: 32px;\n",
              "    }\n",
              "\n",
              "    .colab-df-convert:hover {\n",
              "      background-color: #E2EBFA;\n",
              "      box-shadow: 0px 1px 2px rgba(60, 64, 67, 0.3), 0px 1px 3px 1px rgba(60, 64, 67, 0.15);\n",
              "      fill: #174EA6;\n",
              "    }\n",
              "\n",
              "    [theme=dark] .colab-df-convert {\n",
              "      background-color: #3B4455;\n",
              "      fill: #D2E3FC;\n",
              "    }\n",
              "\n",
              "    [theme=dark] .colab-df-convert:hover {\n",
              "      background-color: #434B5C;\n",
              "      box-shadow: 0px 1px 3px 1px rgba(0, 0, 0, 0.15);\n",
              "      filter: drop-shadow(0px 1px 2px rgba(0, 0, 0, 0.3));\n",
              "      fill: #FFFFFF;\n",
              "    }\n",
              "  </style>\n",
              "\n",
              "      <script>\n",
              "        const buttonEl =\n",
              "          document.querySelector('#df-4f389bc8-e7f1-409a-830b-642c65fd2ffc button.colab-df-convert');\n",
              "        buttonEl.style.display =\n",
              "          google.colab.kernel.accessAllowed ? 'block' : 'none';\n",
              "\n",
              "        async function convertToInteractive(key) {\n",
              "          const element = document.querySelector('#df-4f389bc8-e7f1-409a-830b-642c65fd2ffc');\n",
              "          const dataTable =\n",
              "            await google.colab.kernel.invokeFunction('convertToInteractive',\n",
              "                                                     [key], {});\n",
              "          if (!dataTable) return;\n",
              "\n",
              "          const docLinkHtml = 'Like what you see? Visit the ' +\n",
              "            '<a target=\"_blank\" href=https://colab.research.google.com/notebooks/data_table.ipynb>data table notebook</a>'\n",
              "            + ' to learn more about interactive tables.';\n",
              "          element.innerHTML = '';\n",
              "          dataTable['output_type'] = 'display_data';\n",
              "          await google.colab.output.renderOutput(dataTable, element);\n",
              "          const docLink = document.createElement('div');\n",
              "          docLink.innerHTML = docLinkHtml;\n",
              "          element.appendChild(docLink);\n",
              "        }\n",
              "      </script>\n",
              "    </div>\n",
              "  </div>\n",
              "  "
            ]
          },
          "metadata": {},
          "execution_count": 37
        }
      ]
    },
    {
      "cell_type": "markdown",
      "source": [
        "# Data Visualization"
      ],
      "metadata": {
        "id": "pv3y0aevuxZz"
      }
    },
    {
      "cell_type": "code",
      "source": [
        "import matplotlib.pyplot as plt\n",
        "import seaborn as sns\n",
        "\n",
        "sns.countplot(data=full_ds, x=\"CERCLIS ID\", hue=\"non_white_greater_than_avg\")"
      ],
      "metadata": {
        "colab": {
          "base_uri": "https://localhost:8080/",
          "height": 297
        },
        "id": "f5PZlyjlJp0M",
        "outputId": "3c4c422e-07df-4bcb-8bdf-6246a9efd363"
      },
      "execution_count": null,
      "outputs": [
        {
          "output_type": "execute_result",
          "data": {
            "text/plain": [
              "<matplotlib.axes._subplots.AxesSubplot at 0x7f37893aac10>"
            ]
          },
          "metadata": {},
          "execution_count": 38
        },
        {
          "output_type": "display_data",
          "data": {
            "text/plain": [
              "<Figure size 432x288 with 1 Axes>"
            ],
            "image/png": "[encoded data removed]"
          },
          "metadata": {
            "needs_background": "light"
          }
        }
      ]
    },
    {
      "cell_type": "code",
      "source": [
        "\n",
        "with_superfund = full_ds[full_ds['CERCLIS ID'] == 1]\n",
        "without_superfund = full_ds[full_ds['CERCLIS ID'] == 0]\n",
        "\n",
        "white_with = with_superfund['only_white_prop'].mean()\n",
        "non_white_with = 1 - white_with\n",
        "\n",
        "white_without = without_superfund['only_white_prop'].mean()\n",
        "print(white_with, white_without)\n",
        "non_white_without = 1 - white_without\n",
        "\n",
        "\n",
        "df = pd.DataFrame({'props': [non_white_with, white_with]}, index=['NonWhite', 'White'])\n",
        "plot = df.plot.pie(y='props', figsize=(5, 5))\n",
        "\n",
        "df_without = pd.DataFrame({'props': [non_white_without, white_without]}, index=['NonWhite', 'White'])\n",
        "plot_without = df_without.plot.pie(y='props', figsize=(5, 5))"
      ],
      "metadata": {
        "colab": {
          "base_uri": "https://localhost:8080/",
          "height": 607
        },
        "id": "5jRaaQdwZN1M",
        "outputId": "3fb5eee2-bf2b-4d97-e638-3dc1901b85fd"
      },
      "execution_count": null,
      "outputs": [
        {
          "output_type": "stream",
          "name": "stdout",
          "text": [
            "0.8149759724718867 0.827090337104709\n"
          ]
        },
        {
          "output_type": "display_data",
          "data": {
            "text/plain": [
              "<Figure size 360x360 with 1 Axes>"
            ],
            "image/png": "[encoded data removed]"
          },
          "metadata": {}
        },
        {
          "output_type": "display_data",
          "data": {
            "text/plain": [
              "<Figure size 360x360 with 1 Axes>"
            ],
            "image/png": "[encoded data removed]"
          },
          "metadata": {}
        }
      ]
    },
    {
      "cell_type": "code",
      "source": [
        "with_superfund_ = full_ds[full_ds['CERCLIS ID'] == 1]\n",
        "without_superfund_ = full_ds[full_ds['CERCLIS ID'] == 0]\n",
        "\n",
        "with_superfund = with_superfund_[with_superfund_['State'] == 'South Carolina']\n",
        "without_superfund = without_superfund_[without_superfund_['State'] == 'South Carolina']\n",
        "\n",
        "white_with = with_superfund['only_white_prop'].mean()\n",
        "non_white_with = 1 - white_with\n",
        "\n",
        "white_without = without_superfund['only_white_prop'].mean()\n",
        "print(white_with, white_without)\n",
        "non_white_without = 1 - white_without\n",
        "\n",
        "\n",
        "df = pd.DataFrame({'props': [non_white_with, white_with]}, index=['NonWhite_with', 'White_with'])\n",
        "plot = df.plot.pie(y='props', figsize=(5, 5))\n",
        "\n",
        "df_without = pd.DataFrame({'props': [non_white_without, white_without]}, index=['NonWhite_without', 'White_without'])\n",
        "plot_without = df_without.plot.pie(y='props', figsize=(5, 5))"
      ],
      "metadata": {
        "colab": {
          "base_uri": "https://localhost:8080/",
          "height": 607
        },
        "id": "ZWGtElo-quQb",
        "outputId": "29bd5b80-e4c6-441d-b37d-b6a88a3057d3"
      },
      "execution_count": null,
      "outputs": [
        {
          "output_type": "stream",
          "name": "stdout",
          "text": [
            "0.6407109146313724 0.5717811624252274\n"
          ]
        },
        {
          "output_type": "display_data",
          "data": {
            "text/plain": [
              "<Figure size 360x360 with 1 Axes>"
            ],
            "image/png": "[encoded data removed]"
          },
          "metadata": {}
        },
        {
          "output_type": "display_data",
          "data": {
            "text/plain": [
              "<Figure size 360x360 with 1 Axes>"
            ],
            "image/png": "[encoded data removed]"
          },
          "metadata": {}
        }
      ]
    },
    {
      "cell_type": "code",
      "source": [
        "with_superfund = full_ds[full_ds['CERCLIS ID'] == 1]\n",
        "without_superfund = full_ds[full_ds['CERCLIS ID'] == 0]\n",
        "\n",
        "black_with = with_superfund['only_black_prop'].mean()\n",
        "non_black_with = 1 - black_with\n",
        "\n",
        "black_without = without_superfund['only_black_prop'].mean()\n",
        "print(black_with, black_without)\n",
        "non_black_without = 1 - black_without\n",
        "\n",
        "\n",
        "df = pd.DataFrame({'props': [non_black_with, black_with]}, index=['NonBlack', 'Black'])\n",
        "plot = df.plot.pie(y='props', figsize=(5, 5))\n",
        "\n",
        "df_without = pd.DataFrame({'props': [non_black_without, black_without]}, index=['NonBlack', 'Black'])\n",
        "plot_without = df_without.plot.pie(y='props', figsize=(5, 5))"
      ],
      "metadata": {
        "colab": {
          "base_uri": "https://localhost:8080/",
          "height": 607
        },
        "id": "ntLw8sjZ7Ugj",
        "outputId": "21a0c1b2-441a-407d-d5fc-4bbd733c82d6"
      },
      "execution_count": null,
      "outputs": [
        {
          "output_type": "stream",
          "name": "stdout",
          "text": [
            "0.09315124547848004 0.0907450031820043\n"
          ]
        },
        {
          "output_type": "display_data",
          "data": {
            "text/plain": [
              "<Figure size 360x360 with 1 Axes>"
            ],
            "image/png": "[encoded data removed]"
          },
          "metadata": {}
        },
        {
          "output_type": "display_data",
          "data": {
            "text/plain": [
              "<Figure size 360x360 with 1 Axes>"
            ],
            "image/png": "[encoded data removed]"
          },
          "metadata": {}
        }
      ]
    },
    {
      "cell_type": "markdown",
      "source": [
        "# Model Training\n",
        "\n",
        "#### Split into Training and Test set"
      ],
      "metadata": {
        "id": "e-JdS7pFu4wd"
      }
    },
    {
      "cell_type": "code",
      "source": [
        "from sklearn.model_selection import train_test_split\n",
        "\n",
        "# get only columns with feature engineered proportions\n",
        "X_census = full_ds.iloc[:,21:]\n",
        "X_census = X_census.drop(\"CERCLIS ID\", axis= 1)\n",
        "\n",
        "y_census = full_ds[\"CERCLIS ID\"]\n",
        "X_train, X_test, y_train, y_test = train_test_split(X_census, y_census, test_size=0.33, random_state=42)\n",
        "\n",
        "X_train.head(5)"
      ],
      "metadata": {
        "colab": {
          "base_uri": "https://localhost:8080/",
          "height": 270
        },
        "id": "bDABfuXigKiC",
        "outputId": "2537172f-630b-4a4d-edf5-ab575f281df8"
      },
      "execution_count": null,
      "outputs": [
        {
          "output_type": "execute_result",
          "data": {
            "text/plain": [
              "      only_white_prop  only_black_prop  no_hs_prop   hs_prop  bach_prop  \\\n",
              "68           0.952536         0.014077    0.063717  0.362099   0.238962   \n",
              "1669         0.974453         0.011378    0.035564  0.277024   0.266729   \n",
              "3077         0.961595         0.005936    0.062894  0.308944   0.258443   \n",
              "2873         0.811002         0.133024    0.109394  0.320189   0.229975   \n",
              "3277         0.944812         0.000000    0.004016  0.369478   0.309237   \n",
              "\n",
              "      total_unemployed  white_uncovered_prop  black_uncovered_prop  \\\n",
              "68            0.022580              0.039824              0.013115   \n",
              "1669          0.006083              0.038194              0.000000   \n",
              "3077          0.010172              0.029827              0.000000   \n",
              "2873          0.022966              0.114863              0.156084   \n",
              "3277          0.032129              0.088785                   NaN   \n",
              "\n",
              "      poverty_prop  non_white_greater_than_avg  \n",
              "68        0.136737                           0  \n",
              "1669      0.108418                           0  \n",
              "3077      0.070580                           0  \n",
              "2873      0.150109                           0  \n",
              "3277      0.093394                           0  "
            ],
            "text/html": [
              "\n",
              "  <div id=\"df-12583ca7-1cea-41b5-805b-de3012fcb692\">\n",
              "    <div class=\"colab-df-container\">\n",
              "      <div>\n",
              "<style scoped>\n",
              "    .dataframe tbody tr th:only-of-type {\n",
              "        vertical-align: middle;\n",
              "    }\n",
              "\n",
              "    .dataframe tbody tr th {\n",
              "        vertical-align: top;\n",
              "    }\n",
              "\n",
              "    .dataframe thead th {\n",
              "        text-align: right;\n",
              "    }\n",
              "</style>\n",
              "<table border=\"1\" class=\"dataframe\">\n",
              "  <thead>\n",
              "    <tr style=\"text-align: right;\">\n",
              "      <th></th>\n",
              "      <th>only_white_prop</th>\n",
              "      <th>only_black_prop</th>\n",
              "      <th>no_hs_prop</th>\n",
              "      <th>hs_prop</th>\n",
              "      <th>bach_prop</th>\n",
              "      <th>total_unemployed</th>\n",
              "      <th>white_uncovered_prop</th>\n",
              "      <th>black_uncovered_prop</th>\n",
              "      <th>poverty_prop</th>\n",
              "      <th>non_white_greater_than_avg</th>\n",
              "    </tr>\n",
              "  </thead>\n",
              "  <tbody>\n",
              "    <tr>\n",
              "      <th>68</th>\n",
              "      <td>0.952536</td>\n",
              "      <td>0.014077</td>\n",
              "      <td>0.063717</td>\n",
              "      <td>0.362099</td>\n",
              "      <td>0.238962</td>\n",
              "      <td>0.022580</td>\n",
              "      <td>0.039824</td>\n",
              "      <td>0.013115</td>\n",
              "      <td>0.136737</td>\n",
              "      <td>0</td>\n",
              "    </tr>\n",
              "    <tr>\n",
              "      <th>1669</th>\n",
              "      <td>0.974453</td>\n",
              "      <td>0.011378</td>\n",
              "      <td>0.035564</td>\n",
              "      <td>0.277024</td>\n",
              "      <td>0.266729</td>\n",
              "      <td>0.006083</td>\n",
              "      <td>0.038194</td>\n",
              "      <td>0.000000</td>\n",
              "      <td>0.108418</td>\n",
              "      <td>0</td>\n",
              "    </tr>\n",
              "    <tr>\n",
              "      <th>3077</th>\n",
              "      <td>0.961595</td>\n",
              "      <td>0.005936</td>\n",
              "      <td>0.062894</td>\n",
              "      <td>0.308944</td>\n",
              "      <td>0.258443</td>\n",
              "      <td>0.010172</td>\n",
              "      <td>0.029827</td>\n",
              "      <td>0.000000</td>\n",
              "      <td>0.070580</td>\n",
              "      <td>0</td>\n",
              "    </tr>\n",
              "    <tr>\n",
              "      <th>2873</th>\n",
              "      <td>0.811002</td>\n",
              "      <td>0.133024</td>\n",
              "      <td>0.109394</td>\n",
              "      <td>0.320189</td>\n",
              "      <td>0.229975</td>\n",
              "      <td>0.022966</td>\n",
              "      <td>0.114863</td>\n",
              "      <td>0.156084</td>\n",
              "      <td>0.150109</td>\n",
              "      <td>0</td>\n",
              "    </tr>\n",
              "    <tr>\n",
              "      <th>3277</th>\n",
              "      <td>0.944812</td>\n",
              "      <td>0.000000</td>\n",
              "      <td>0.004016</td>\n",
              "      <td>0.369478</td>\n",
              "      <td>0.309237</td>\n",
              "      <td>0.032129</td>\n",
              "      <td>0.088785</td>\n",
              "      <td>NaN</td>\n",
              "      <td>0.093394</td>\n",
              "      <td>0</td>\n",
              "    </tr>\n",
              "  </tbody>\n",
              "</table>\n",
              "</div>\n",
              "      <button class=\"colab-df-convert\" onclick=\"convertToInteractive('df-12583ca7-1cea-41b5-805b-de3012fcb692')\"\n",
              "              title=\"Convert this dataframe to an interactive table.\"\n",
              "              style=\"display:none;\">\n",
              "        \n",
              "  <svg xmlns=\"http://www.w3.org/2000/svg\" height=\"24px\"viewBox=\"0 0 24 24\"\n",
              "       width=\"24px\">\n",
              "    <path d=\"M0 0h24v24H0V0z\" fill=\"none\"/>\n",
              "    <path d=\"M18.56 5.44l.94 2.06.94-2.06 2.06-.94-2.06-.94-.94-2.06-.94 2.06-2.06.94zm-11 1L8.5 8.5l.94-2.06 2.06-.94-2.06-.94L8.5 2.5l-.94 2.06-2.06.94zm10 10l.94 2.06.94-2.06 2.06-.94-2.06-.94-.94-2.06-.94 2.06-2.06.94z\"/><path d=\"M17.41 7.96l-1.37-1.37c-.4-.4-.92-.59-1.43-.59-.52 0-1.04.2-1.43.59L10.3 9.45l-7.72 7.72c-.78.78-.78 2.05 0 2.83L4 21.41c.39.39.9.59 1.41.59.51 0 1.02-.2 1.41-.59l7.78-7.78 2.81-2.81c.8-.78.8-2.07 0-2.86zM5.41 20L4 18.59l7.72-7.72 1.47 1.35L5.41 20z\"/>\n",
              "  </svg>\n",
              "      </button>\n",
              "      \n",
              "  <style>\n",
              "    .colab-df-container {\n",
              "      display:flex;\n",
              "      flex-wrap:wrap;\n",
              "      gap: 12px;\n",
              "    }\n",
              "\n",
              "    .colab-df-convert {\n",
              "      background-color: #E8F0FE;\n",
              "      border: none;\n",
              "      border-radius: 50%;\n",
              "      cursor: pointer;\n",
              "      display: none;\n",
              "      fill: #1967D2;\n",
              "      height: 32px;\n",
              "      padding: 0 0 0 0;\n",
              "      width: 32px;\n",
              "    }\n",
              "\n",
              "    .colab-df-convert:hover {\n",
              "      background-color: #E2EBFA;\n",
              "      box-shadow: 0px 1px 2px rgba(60, 64, 67, 0.3), 0px 1px 3px 1px rgba(60, 64, 67, 0.15);\n",
              "      fill: #174EA6;\n",
              "    }\n",
              "\n",
              "    [theme=dark] .colab-df-convert {\n",
              "      background-color: #3B4455;\n",
              "      fill: #D2E3FC;\n",
              "    }\n",
              "\n",
              "    [theme=dark] .colab-df-convert:hover {\n",
              "      background-color: #434B5C;\n",
              "      box-shadow: 0px 1px 3px 1px rgba(0, 0, 0, 0.15);\n",
              "      filter: drop-shadow(0px 1px 2px rgba(0, 0, 0, 0.3));\n",
              "      fill: #FFFFFF;\n",
              "    }\n",
              "  </style>\n",
              "\n",
              "      <script>\n",
              "        const buttonEl =\n",
              "          document.querySelector('#df-12583ca7-1cea-41b5-805b-de3012fcb692 button.colab-df-convert');\n",
              "        buttonEl.style.display =\n",
              "          google.colab.kernel.accessAllowed ? 'block' : 'none';\n",
              "\n",
              "        async function convertToInteractive(key) {\n",
              "          const element = document.querySelector('#df-12583ca7-1cea-41b5-805b-de3012fcb692');\n",
              "          const dataTable =\n",
              "            await google.colab.kernel.invokeFunction('convertToInteractive',\n",
              "                                                     [key], {});\n",
              "          if (!dataTable) return;\n",
              "\n",
              "          const docLinkHtml = 'Like what you see? Visit the ' +\n",
              "            '<a target=\"_blank\" href=https://colab.research.google.com/notebooks/data_table.ipynb>data table notebook</a>'\n",
              "            + ' to learn more about interactive tables.';\n",
              "          element.innerHTML = '';\n",
              "          dataTable['output_type'] = 'display_data';\n",
              "          await google.colab.output.renderOutput(dataTable, element);\n",
              "          const docLink = document.createElement('div');\n",
              "          docLink.innerHTML = docLinkHtml;\n",
              "          element.appendChild(docLink);\n",
              "        }\n",
              "      </script>\n",
              "    </div>\n",
              "  </div>\n",
              "  "
            ]
          },
          "metadata": {},
          "execution_count": 17
        }
      ]
    },
    {
      "cell_type": "markdown",
      "source": [
        "#### Set up pipeline"
      ],
      "metadata": {
        "id": "LpD3nw9pu_ng"
      }
    },
    {
      "cell_type": "code",
      "source": [
        "from sklearn.impute import SimpleImputer\n",
        "from sklearn.preprocessing import StandardScaler\n",
        "from sklearn.pipeline import Pipeline\n",
        "\n",
        "# Numerical Pipeline: replace NANs with median if there are any, standardize transformation\n",
        "num_pipeline = Pipeline([\n",
        "        ('imputer', SimpleImputer(strategy=\"median\")),\n",
        "        ('std_scaler', StandardScaler()),\n",
        "    ])\n",
        "\n",
        "X_census_train = num_pipeline.fit_transform(X_train)\n",
        "X_census_test = num_pipeline.fit_transform(X_test)"
      ],
      "metadata": {
        "id": "GrZL4JLOgh4i"
      },
      "execution_count": null,
      "outputs": []
    },
    {
      "cell_type": "markdown",
      "source": [
        "#### Random Forest"
      ],
      "metadata": {
        "id": "R4Bq2I0hDayT"
      }
    },
    {
      "cell_type": "code",
      "source": [
        "from sklearn.ensemble import RandomForestClassifier\n",
        "from sklearn.metrics import roc_auc_score\n",
        "from sklearn.model_selection import cross_val_predict\n",
        "from sklearn.model_selection import cross_val_score\n",
        "from sklearn.metrics import confusion_matrix \n",
        "\n",
        "# Random Forest \n",
        "random_forest_clf = RandomForestClassifier(random_state=42)\n",
        "random_forest_clf.fit(X_census_train, y_train)\n",
        "\n",
        "y_pred_rf = random_forest_clf.predict(X_census_train)\n",
        "\n",
        "# 5 fold cross validation\n",
        "rf_roc = cross_val_score(random_forest_clf, X_census_train, y_train, scoring=\"roc_auc\", cv = 5)\n",
        "y_train_pred_cm = cross_val_predict(random_forest_clf, X_census_train, y_train, cv=5)\n",
        "rf_confusion_matrix = confusion_matrix(y_train, y_train_pred_cm)"
      ],
      "metadata": {
        "id": "PQI7Mq6rjM-Y"
      },
      "execution_count": null,
      "outputs": []
    },
    {
      "cell_type": "code",
      "source": [
        "print(\"ROC: \", rf_roc.mean())\n",
        "print(\"Confusion Matrix: \", rf_confusion_matrix)"
      ],
      "metadata": {
        "colab": {
          "base_uri": "https://localhost:8080/"
        },
        "id": "GrzJnEoxlCfM",
        "outputId": "91456f20-9080-437e-b8d9-ed1b420982cd"
      },
      "execution_count": null,
      "outputs": [
        {
          "output_type": "stream",
          "name": "stdout",
          "text": [
            "ROC:  0.7263738722552382\n",
            "Confusion Matrix:  [[1722   52]\n",
            " [ 332   47]]\n"
          ]
        }
      ]
    },
    {
      "cell_type": "markdown",
      "source": [
        "#### Tune Hyperparameters:"
      ],
      "metadata": {
        "id": "IZIEUym5Drdc"
      }
    },
    {
      "cell_type": "code",
      "source": [
        "# Grid Search for Random Forest \n",
        "\n",
        "from sklearn.model_selection import GridSearchCV\n",
        "\n",
        "param_grid = [\n",
        "    {'n_estimators': [3, 5, 10], 'max_features': [2, 4, 6]},\n",
        "    {'bootstrap': [False], 'n_estimators': [3, 10], 'max_features': [2, 3, 4]},\n",
        "  ]\n",
        "\n",
        "forest_class = RandomForestClassifier()\n",
        "\n",
        "grid_search_RF = GridSearchCV(forest_class, param_grid, cv = 5, n_jobs = -1, verbose = 2)\n",
        "\n",
        "grid_search_RF.fit(X_census_train, y_train)\n",
        "grid_search_RF.best_estimator_\n",
        "final_model_RF = grid_search_RF.best_estimator_"
      ],
      "metadata": {
        "colab": {
          "base_uri": "https://localhost:8080/"
        },
        "id": "S9YoZjz7DqU4",
        "outputId": "798e833b-4806-4afc-9d65-525dba0c5966"
      },
      "execution_count": null,
      "outputs": [
        {
          "output_type": "stream",
          "name": "stdout",
          "text": [
            "Fitting 5 folds for each of 15 candidates, totalling 75 fits\n"
          ]
        }
      ]
    },
    {
      "cell_type": "code",
      "source": [
        "#improvements?\n",
        "\n",
        "final_predictions_train_rf = final_model_RF.predict(X_census_train)\n",
        "final_roc_rf = roc_auc_score(y_train, final_predictions_train_rf)\n",
        "print(\"Final Model Training ROC SVM: \", final_roc_rf)\n",
        "\n",
        "rf_confusion_matrix = confusion_matrix(y_train, final_predictions_train_rf)\n",
        "print(rf_confusion_matrix)"
      ],
      "metadata": {
        "colab": {
          "base_uri": "https://localhost:8080/"
        },
        "id": "HKrNR08KECWE",
        "outputId": "c5426b33-f9ad-4306-be77-dd6c01fb5b44"
      },
      "execution_count": null,
      "outputs": [
        {
          "output_type": "stream",
          "name": "stdout",
          "text": [
            "Final Model Training ROC SVM:  1.0\n",
            "[[1774    0]\n",
            " [   0  379]]\n"
          ]
        }
      ]
    },
    {
      "cell_type": "markdown",
      "source": [
        "#### SVM"
      ],
      "metadata": {
        "id": "CTVdM-aMEX6R"
      }
    },
    {
      "cell_type": "code",
      "source": [
        "from sklearn.svm import SVC\n",
        "from sklearn.svm import LinearSVC\n",
        "\n",
        "# 5-fold cross-validation\n",
        "# confusion matrix, ROC AUC\n",
        "\n",
        "# SVM\n",
        "svm_clf1 = LinearSVC(C=1, loss=\"hinge\", random_state=42)\n",
        "svm_clf1.fit(X_census_train, y_train)\n",
        "\n",
        "svm1_cross_val = cross_val_score(svm_clf1, X_census_train, y_train, cv=5, scoring=\"roc_auc\")\n",
        "y_train_pred_svm = cross_val_predict(svm_clf1, X_census_train, y_train, cv=5)\n",
        "svm_confusion_matrix = confusion_matrix(y_train, y_train_pred_svm)"
      ],
      "metadata": {
        "id": "5v7k1Y9qw_wn"
      },
      "execution_count": null,
      "outputs": []
    },
    {
      "cell_type": "code",
      "source": [
        "print(\"ROC 1: \", svm1_cross_val.mean())\n",
        "print(\"Confusion Matrix: \", svm_confusion_matrix)"
      ],
      "metadata": {
        "colab": {
          "base_uri": "https://localhost:8080/"
        },
        "id": "_9Csup1-xV98",
        "outputId": "4d890034-df05-4b89-f6c6-5e2e22e03d43"
      },
      "execution_count": null,
      "outputs": [
        {
          "output_type": "stream",
          "name": "stdout",
          "text": [
            "ROC 1:  0.5417911706935039\n",
            "Confusion Matrix:  [[1774    0]\n",
            " [ 379    0]]\n"
          ]
        }
      ]
    },
    {
      "cell_type": "code",
      "source": [
        "#Grid Search for SVM\n",
        "\n",
        "param_grid = [\n",
        "    {'C': [1, 3, 5], 'kernel': ['linear']},\n",
        "    {'C': [1, 3, 5], 'gamma': [0.001, 0.0001], 'kernel': ['rbf']},\n",
        "    ]\n",
        "\n",
        "svm_reg = SVC()\n",
        "grid_search = GridSearchCV(svm_reg, param_grid, cv=5,\n",
        "                           refit=True,verbose=2)\n",
        "grid_search.fit(X_census_train, y_train)\n",
        "final_model_SVM = grid_search.best_estimator_"
      ],
      "metadata": {
        "colab": {
          "base_uri": "https://localhost:8080/"
        },
        "id": "diByH8a3FrmG",
        "outputId": "e9612ac4-75a8-4e42-c381-ae22a1195107"
      },
      "execution_count": null,
      "outputs": [
        {
          "output_type": "stream",
          "name": "stdout",
          "text": [
            "Fitting 5 folds for each of 9 candidates, totalling 45 fits\n",
            "[CV] END .................................C=1, kernel=linear; total time=   0.1s\n",
            "[CV] END .................................C=1, kernel=linear; total time=   0.0s\n",
            "[CV] END .................................C=1, kernel=linear; total time=   0.1s\n",
            "[CV] END .................................C=1, kernel=linear; total time=   0.0s\n",
            "[CV] END .................................C=1, kernel=linear; total time=   0.0s\n",
            "[CV] END .................................C=3, kernel=linear; total time=   0.1s\n",
            "[CV] END .................................C=3, kernel=linear; total time=   0.1s\n",
            "[CV] END .................................C=3, kernel=linear; total time=   0.1s\n",
            "[CV] END .................................C=3, kernel=linear; total time=   0.1s\n",
            "[CV] END .................................C=3, kernel=linear; total time=   0.1s\n",
            "[CV] END .................................C=5, kernel=linear; total time=   0.1s\n",
            "[CV] END .................................C=5, kernel=linear; total time=   0.1s\n",
            "[CV] END .................................C=5, kernel=linear; total time=   0.1s\n",
            "[CV] END .................................C=5, kernel=linear; total time=   0.1s\n",
            "[CV] END .................................C=5, kernel=linear; total time=   0.1s\n",
            "[CV] END .......................C=1, gamma=0.001, kernel=rbf; total time=   0.1s\n",
            "[CV] END .......................C=1, gamma=0.001, kernel=rbf; total time=   0.1s\n",
            "[CV] END .......................C=1, gamma=0.001, kernel=rbf; total time=   0.1s\n",
            "[CV] END .......................C=1, gamma=0.001, kernel=rbf; total time=   0.1s\n",
            "[CV] END .......................C=1, gamma=0.001, kernel=rbf; total time=   0.1s\n",
            "[CV] END ......................C=1, gamma=0.0001, kernel=rbf; total time=   0.1s\n",
            "[CV] END ......................C=1, gamma=0.0001, kernel=rbf; total time=   0.1s\n",
            "[CV] END ......................C=1, gamma=0.0001, kernel=rbf; total time=   0.1s\n",
            "[CV] END ......................C=1, gamma=0.0001, kernel=rbf; total time=   0.1s\n",
            "[CV] END ......................C=1, gamma=0.0001, kernel=rbf; total time=   0.1s\n",
            "[CV] END .......................C=3, gamma=0.001, kernel=rbf; total time=   0.1s\n",
            "[CV] END .......................C=3, gamma=0.001, kernel=rbf; total time=   0.1s\n",
            "[CV] END .......................C=3, gamma=0.001, kernel=rbf; total time=   0.1s\n",
            "[CV] END .......................C=3, gamma=0.001, kernel=rbf; total time=   0.1s\n",
            "[CV] END .......................C=3, gamma=0.001, kernel=rbf; total time=   0.1s\n",
            "[CV] END ......................C=3, gamma=0.0001, kernel=rbf; total time=   0.1s\n",
            "[CV] END ......................C=3, gamma=0.0001, kernel=rbf; total time=   0.1s\n",
            "[CV] END ......................C=3, gamma=0.0001, kernel=rbf; total time=   0.1s\n",
            "[CV] END ......................C=3, gamma=0.0001, kernel=rbf; total time=   0.1s\n",
            "[CV] END ......................C=3, gamma=0.0001, kernel=rbf; total time=   0.1s\n",
            "[CV] END .......................C=5, gamma=0.001, kernel=rbf; total time=   0.1s\n",
            "[CV] END .......................C=5, gamma=0.001, kernel=rbf; total time=   0.1s\n",
            "[CV] END .......................C=5, gamma=0.001, kernel=rbf; total time=   0.1s\n",
            "[CV] END .......................C=5, gamma=0.001, kernel=rbf; total time=   0.1s\n",
            "[CV] END .......................C=5, gamma=0.001, kernel=rbf; total time=   0.1s\n",
            "[CV] END ......................C=5, gamma=0.0001, kernel=rbf; total time=   0.1s\n",
            "[CV] END ......................C=5, gamma=0.0001, kernel=rbf; total time=   0.1s\n",
            "[CV] END ......................C=5, gamma=0.0001, kernel=rbf; total time=   0.1s\n",
            "[CV] END ......................C=5, gamma=0.0001, kernel=rbf; total time=   0.1s\n",
            "[CV] END ......................C=5, gamma=0.0001, kernel=rbf; total time=   0.1s\n"
          ]
        }
      ]
    },
    {
      "cell_type": "code",
      "source": [
        "#improvements?\n",
        "\n",
        "final_predictions_train = final_model_SVM.predict(X_census_train)\n",
        "final_roc_svm = roc_auc_score(y_train, final_predictions_train)\n",
        "print(\"Final Model Training ROC SVM: \", final_roc_svm)\n",
        "\n",
        "svm_confusion_matrix = confusion_matrix(y_train, final_predictions_train)\n",
        "print(svm_confusion_matrix)"
      ],
      "metadata": {
        "colab": {
          "base_uri": "https://localhost:8080/"
        },
        "id": "eYawPlkSF6JR",
        "outputId": "df9a0976-c852-4af1-f7e4-339a6b492f8a"
      },
      "execution_count": null,
      "outputs": [
        {
          "output_type": "stream",
          "name": "stdout",
          "text": [
            "Final Model Training ROC SVM:  0.5\n",
            "[[1774    0]\n",
            " [ 379    0]]\n"
          ]
        }
      ]
    },
    {
      "cell_type": "markdown",
      "source": [
        "#### Neural Network: MLPClassification"
      ],
      "metadata": {
        "id": "eX4IIbNT8Mzj"
      }
    },
    {
      "cell_type": "code",
      "source": [
        "import tensorflow as tf\n",
        "from tensorflow import keras\n",
        "\n",
        "mlp_model = keras.models.Sequential()\n",
        "mlp_model.add(keras.layers.Dense(50, activation=\"relu\"))\n",
        "mlp_model.add(keras.layers.Dense(1, activation=\"sigmoid\"))\n",
        "\n",
        "mlp_model.compile(loss=keras.losses.binary_crossentropy,\n",
        "              optimizer=keras.optimizers.Adam(),\n",
        "              metrics=[keras.metrics.categorical_accuracy])"
      ],
      "metadata": {
        "id": "XnLGkwY88XJ7"
      },
      "execution_count": null,
      "outputs": []
    },
    {
      "cell_type": "code",
      "source": [
        "history  = mlp_model.fit(X_census_train, y_train, batch_size=32, epochs=10, validation_split=0.1)"
      ],
      "metadata": {
        "colab": {
          "base_uri": "https://localhost:8080/"
        },
        "id": "buQlRergCKuU",
        "outputId": "bfab9bf3-cc89-45c7-ce46-5486a4df6aa4"
      },
      "execution_count": null,
      "outputs": [
        {
          "output_type": "stream",
          "name": "stdout",
          "text": [
            "Epoch 1/10\n",
            "61/61 [==============================] - 1s 11ms/step - loss: 0.5307 - categorical_accuracy: 1.0000 - val_loss: 0.5287 - val_categorical_accuracy: 1.0000\n",
            "Epoch 2/10\n",
            "61/61 [==============================] - 0s 6ms/step - loss: 0.4247 - categorical_accuracy: 1.0000 - val_loss: 0.5281 - val_categorical_accuracy: 1.0000\n",
            "Epoch 3/10\n",
            "61/61 [==============================] - 0s 6ms/step - loss: 0.4074 - categorical_accuracy: 1.0000 - val_loss: 0.5330 - val_categorical_accuracy: 1.0000\n",
            "Epoch 4/10\n",
            "61/61 [==============================] - 0s 7ms/step - loss: 0.4022 - categorical_accuracy: 1.0000 - val_loss: 0.5301 - val_categorical_accuracy: 1.0000\n",
            "Epoch 5/10\n",
            "61/61 [==============================] - 0s 6ms/step - loss: 0.3992 - categorical_accuracy: 1.0000 - val_loss: 0.5294 - val_categorical_accuracy: 1.0000\n",
            "Epoch 6/10\n",
            "61/61 [==============================] - 0s 7ms/step - loss: 0.3963 - categorical_accuracy: 1.0000 - val_loss: 0.5282 - val_categorical_accuracy: 1.0000\n",
            "Epoch 7/10\n",
            "61/61 [==============================] - 0s 3ms/step - loss: 0.3942 - categorical_accuracy: 1.0000 - val_loss: 0.5251 - val_categorical_accuracy: 1.0000\n",
            "Epoch 8/10\n",
            "61/61 [==============================] - 0s 3ms/step - loss: 0.3924 - categorical_accuracy: 1.0000 - val_loss: 0.5246 - val_categorical_accuracy: 1.0000\n",
            "Epoch 9/10\n",
            "61/61 [==============================] - 0s 3ms/step - loss: 0.3908 - categorical_accuracy: 1.0000 - val_loss: 0.5215 - val_categorical_accuracy: 1.0000\n",
            "Epoch 10/10\n",
            "61/61 [==============================] - 0s 3ms/step - loss: 0.3897 - categorical_accuracy: 1.0000 - val_loss: 0.5201 - val_categorical_accuracy: 1.0000\n"
          ]
        }
      ]
    },
    {
      "cell_type": "markdown",
      "source": [
        "# Model Evaluation"
      ],
      "metadata": {
        "id": "jZLCLnm8Eeif"
      }
    },
    {
      "cell_type": "markdown",
      "source": [
        "#### Random Forest"
      ],
      "metadata": {
        "id": "k2ao-ke7GMtC"
      }
    },
    {
      "cell_type": "code",
      "source": [
        "# Random Forest\n",
        "final_predictions_RF = final_model_RF.predict(X_census_test)\n",
        "\n",
        "final_roc_RF = roc_auc_score(y_test, final_predictions_RF)\n",
        "print(\"Final ROC RF: \", final_roc_RF)\n",
        "\n",
        "RF_confusion_matrix = confusion_matrix(y_test, final_predictions_RF)\n",
        "print(RF_confusion_matrix)"
      ],
      "metadata": {
        "colab": {
          "base_uri": "https://localhost:8080/"
        },
        "id": "DB3K41C7GQyW",
        "outputId": "ea0f63dd-b767-4519-bece-1269502df21e"
      },
      "execution_count": null,
      "outputs": [
        {
          "output_type": "stream",
          "name": "stdout",
          "text": [
            "Final ROC RF:  0.5396485004837149\n",
            "[[855  31]\n",
            " [155  20]]\n"
          ]
        }
      ]
    },
    {
      "cell_type": "code",
      "source": [
        "# Simple Random Forest\n",
        "final_predictions_RF2 = random_forest_clf.predict(X_census_test)\n",
        "\n",
        "final_roc_RF2 = roc_auc_score(y_test, final_predictions_RF2)\n",
        "print(\"Final ROC RF: \", final_roc_RF2)\n",
        "\n",
        "RF_confusion_matrix2 = confusion_matrix(y_test, final_predictions_RF2)\n",
        "print(RF_confusion_matrix2)"
      ],
      "metadata": {
        "colab": {
          "base_uri": "https://localhost:8080/"
        },
        "id": "YaGO7dH6Ga0-",
        "outputId": "35cb4ef7-0220-476f-ed49-9e77a4bed0da"
      },
      "execution_count": null,
      "outputs": [
        {
          "output_type": "stream",
          "name": "stdout",
          "text": [
            "Final ROC RF:  0.5464559819413093\n",
            "[[862  24]\n",
            " [154  21]]\n"
          ]
        }
      ]
    },
    {
      "cell_type": "markdown",
      "source": [
        "#### SVM"
      ],
      "metadata": {
        "id": "9ARKwRuhGOp8"
      }
    },
    {
      "cell_type": "code",
      "source": [
        "final_model_svm = grid_search.best_estimator_\n",
        "final_predictions = final_model_svm.predict(X_census_test)\n",
        "\n",
        "final_roc_svm = roc_auc_score(y_test, final_predictions)\n",
        "print(\"Final ROC SVM: \", final_roc_svm)\n",
        "\n",
        "svm_confusion_matrix = confusion_matrix(y_test, final_predictions)\n",
        "print(svm_confusion_matrix)"
      ],
      "metadata": {
        "colab": {
          "base_uri": "https://localhost:8080/"
        },
        "id": "bJPmrLq0Gowl",
        "outputId": "a446689c-9332-46f9-916f-a9aafb1f7ebd"
      },
      "execution_count": null,
      "outputs": [
        {
          "output_type": "stream",
          "name": "stdout",
          "text": [
            "Final ROC SVM:  0.5\n",
            "[[886   0]\n",
            " [175   0]]\n"
          ]
        }
      ]
    },
    {
      "cell_type": "markdown",
      "source": [
        "#### MLP"
      ],
      "metadata": {
        "id": "e6etbLBpGJ1d"
      }
    },
    {
      "cell_type": "code",
      "source": [
        "score = mlp_model.evaluate(X_census_test, y_test)\n",
        "print(\"Test loss:\", score[0])\n",
        "print(\"Test accuracy:\", score[1])"
      ],
      "metadata": {
        "colab": {
          "base_uri": "https://localhost:8080/"
        },
        "id": "bGmslWTYEktB",
        "outputId": "0d95c409-e505-4a1f-e242-cbe5a3aaeb29"
      },
      "execution_count": null,
      "outputs": [
        {
          "output_type": "stream",
          "name": "stdout",
          "text": [
            "34/34 [==============================] - 0s 2ms/step - loss: 0.3989 - categorical_accuracy: 1.0000\n",
            "Test loss: 0.3989245295524597\n",
            "Test accuracy: 1.0\n"
          ]
        }
      ]
    }
  ]
}